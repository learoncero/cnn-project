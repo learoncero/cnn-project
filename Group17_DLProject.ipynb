{
 "cells": [
  {
   "cell_type": "markdown",
   "metadata": {},
   "source": [
    "# DL project - classifying emotions from facial images\n",
    "*Group 17 - Dorothy Modrall Sperling, Manuel Schönberger, Lea Roncero*"
   ]
  },
  {
   "cell_type": "markdown",
   "metadata": {},
   "source": [
    "## 0. Dataset description\n",
    "\n",
    "For our deep learning project, we use the FER+ dataset that contains ~28.700 pictures of facial expressions and was proposed in the assignment specification.\n",
    "\n",
    "###  Features of the Dataset\n",
    "\n",
    "**Emotion**\n",
    "- Represents the class label for the facial expression depicted in the image.\n",
    "- It is an integer value ranging from `0` to `6`, corresponding to seven different emotions:\n",
    "  - `0`: Angry  \n",
    "  - `1`: Disgust  \n",
    "  - `2`: Fear  \n",
    "  - `3`: Happy  \n",
    "  - `4`: Sad  \n",
    "  - `5`: Surprise  \n",
    "  - `6`: Neutral  \n",
    "\n",
    "**Pixels**\n",
    "- A string of pixel values representing a `48x48` grayscale image.\n",
    "- Contains `2304` comma-separated values (`48 x 48 = 2304`), where each value is an intensity level in the range `0-255`."
   ]
  },
  {
   "cell_type": "markdown",
   "metadata": {},
   "source": [
    "## 0. Loading and preprocessing data\n",
    "\n",
    "### Preprocessing steps\n",
    "1. **Reshaping**:\n",
    "   - Convert the pixel string into a `48x48` matrix for visualization and processing.\n",
    "2. **Scaling**:\n",
    "   - Scale pixel values to the range `[0, 1]` by dividing the pixel values by 255.\n",
    "3. **Normalization**:\n",
    "   - Normalize pixel values by subtracting the mean and diving them by the standard deviation."
   ]
  },
  {
   "cell_type": "markdown",
   "metadata": {
    "vscode": {
     "languageId": "plaintext"
    }
   },
   "source": [
    "## 1. Define a custom convolutional neural network"
   ]
  }
 ],
 "metadata": {
  "language_info": {
   "name": "python"
  }
 },
 "nbformat": 4,
 "nbformat_minor": 2
}
