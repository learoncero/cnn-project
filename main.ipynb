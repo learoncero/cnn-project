{
 "cells": [
  {
   "cell_type": "markdown",
   "metadata": {},
   "source": [
    "# Live Sentiment Analysis"
   ]
  },
  {
   "cell_type": "code",
   "execution_count": 1,
   "metadata": {},
   "outputs": [
    {
     "name": "stderr",
     "output_type": "stream",
     "text": [
      "Using TensorFlow backend.\n"
     ]
    }
   ],
   "source": [
    "import cv2\n",
    "import numpy as np\n",
    "from keras.models import load_model"
   ]
  },
  {
   "cell_type": "code",
   "execution_count": 2,
   "metadata": {},
   "outputs": [],
   "source": [
    "#handler for camera\n",
    "camera_handle = cv2.VideoCapture(0)\n",
    "\n",
    "#loading pre trained haar code for face detection\n",
    "face_haar = cv2.CascadeClassifier('haarcascade_frontalface_default.xml')\n",
    "font = cv2.FONT_HERSHEY_SIMPLEX\n",
    "\n",
    "#loading saved cnn model\n",
    "model = load_model('live_emotion_recognition_model.h5')\n",
    "\n",
    "#predictiong face emotion using saved model\n",
    "def get_emotion(image, shape_x, shape_y):\n",
    "    #reshape to the size of face images of model trained on\n",
    "    image = cv2.resize(image,(shape_x, shape_y))\n",
    "    image = image.reshape((1, shape_x, shape_y, 1))\n",
    "    result = model.predict_classes(image, verbose=0)\n",
    "    emotions = {0: 'Neutral', 1: 'Happiness', 2: 'Surprise', 3: 'Sadness', 4: 'Anger', 5: 'Disgust', 6: 'Fear',\n",
    "    7: 'Contempt', 8: 'unknown', 9: 'Not a Face'}\n",
    "    return emotions[result[0]]\n",
    "\n"
   ]
  },
  {
   "cell_type": "code",
   "execution_count": 3,
   "metadata": {},
   "outputs": [],
   "source": [
    "#main loop\n",
    "while True:\n",
    "    _, rgb_image = camera_handle.read()\n",
    "    flipped_rgb_image = cv2.flip(rgb_image, 1)\n",
    "    gray_image = cv2.cvtColor(rgb_image, cv2.COLOR_BGR2GRAY)\n",
    "    faces = face_haar.detectMultiScale(gray_image, 1.3, 5)#to tune\n",
    "    \n",
    "    for (x, y, w, h) in faces:\n",
    "        gray_face = gray_image[y:y+h, x:x+w]\n",
    "        #specify model face size here 48x48\n",
    "        emotion = get_emotion(gray_face, 48, 48)\n",
    "        cv2.rectangle(flipped_rgb_image,(x,y),(x+w,y+h),(0, 255, 0),2)\n",
    "        cv2.putText(flipped_rgb_image, emotion, (30,30), font, 0.8, (0, 255, 0), 1)\n",
    "    \n",
    "    cv2.imshow('Live Emotion Recognition', flipped_rgb_image)\n",
    "    \n",
    "    k = cv2.waitKey(1) & 0xEFFFFF\n",
    "    if k==27:   \n",
    "        break\n",
    "    else:\n",
    "        continue\n",
    "        \n",
    "cv2.destroyAllWindows()"
   ]
  }
 ],
 "metadata": {
  "kernelspec": {
   "display_name": "Python 3",
   "language": "python",
   "name": "python3"
  },
  "language_info": {
   "codemirror_mode": {
    "name": "ipython",
    "version": 3
   },
   "file_extension": ".py",
   "mimetype": "text/x-python",
   "name": "python",
   "nbconvert_exporter": "python",
   "pygments_lexer": "ipython3",
   "version": "3.6.7"
  }
 },
 "nbformat": 4,
 "nbformat_minor": 2
}
