{
 "cells": [
  {
   "cell_type": "markdown",
   "metadata": {
    "id": "_MWKYRenO1H7"
   },
   "source": [
    "## 0. Notebook description"
   ]
  },
  {
   "cell_type": "markdown",
   "metadata": {
    "id": "TKXupOMMFAmD"
   },
   "source": [
    "Compared to our baseline, this notebook uses **7 convolutional layers**. No other changes were made to any other parameters."
   ]
  },
  {
   "cell_type": "markdown",
   "metadata": {
    "id": "5_hx5q7OFAmD"
   },
   "source": [
    "## 1. Importing libraries and loading the data"
   ]
  },
  {
   "cell_type": "code",
   "execution_count": 1,
   "metadata": {
    "ExecuteTime": {
     "end_time": "2024-12-05T16:07:15.043785Z",
     "start_time": "2024-12-05T16:07:08.550838Z"
    },
    "id": "ZH4EnPodO1H8"
   },
   "outputs": [],
   "source": [
    "# Import Libraries\n",
    "import os\n",
    "import torch\n",
    "import torch.nn as nn\n",
    "import torch.optim as optim\n",
    "import torch.nn.functional as F\n",
    "from torchvision import transforms\n",
    "from torch.utils.tensorboard import SummaryWriter\n",
    "from sklearn.metrics import classification_report\n",
    "from utils.preprocessing import oversample_data, load_data, ReshapeAndScale, create_dataloaders\n",
    "from utils.fer2013_dataset import Fer2013Dataset"
   ]
  },
  {
   "cell_type": "markdown",
   "metadata": {
    "id": "mmi4DkFbO1H9"
   },
   "source": [
    "First, we load the data into a pandas dataframe."
   ]
  },
  {
   "cell_type": "code",
   "execution_count": 2,
   "metadata": {
    "ExecuteTime": {
     "end_time": "2024-12-05T16:07:17.127186Z",
     "start_time": "2024-12-05T16:07:15.062323Z"
    },
    "colab": {
     "base_uri": "https://localhost:8080/"
    },
    "id": "old1wNLVO1H_",
    "outputId": "c9d7fb34-71c6-4145-e017-c06c75329cd1"
   },
   "outputs": [
    {
     "name": "stdout",
     "output_type": "stream",
     "text": [
      "Training Data\n",
      "                                              pixels  emotion\n",
      "0  252 253 252 252 251 243 237 209 209 212 226 19...        6\n",
      "1  94 91 77 66 56 53 51 45 47 49 40 42 43 46 42 4...        0\n",
      "2  91 82 65 66 75 89 108 119 124 134 139 139 134 ...        3\n",
      "3  139 101 115 141 191 245 240 235 243 239 234 23...        1\n",
      "4  238 237 238 239 238 238 237 248 183 189 136 53...        1\n",
      "5  140 127 126 152 149 142 143 129 101 107 146 14...        5\n",
      "6  181 246 193 129 133 221 220 213 139 84 67 30 2...        6\n",
      "7  7 8 8 8 16 28 38 41 40 38 37 37 37 39 40 42 43...        2\n",
      "8  196 198 177 156 103 44 37 37 57 80 89 85 82 81...        0\n",
      "9  0 0 0 0 0 0 0 0 2 0 7 46 54 61 56 25 23 29 30 ...        4\n",
      "\n",
      "\n",
      "Validation Data\n",
      "   emotion                                             pixels\n",
      "0        3  254 253 253 254 254 254 252 252 253 252 253 25...\n",
      "1        4  92 70 64 65 62 64 91 139 167 181 186 187 191 1...\n",
      "2        5  20 19 16 23 24 25 34 24 25 60 113 123 139 149 ...\n",
      "3        4  79 82 83 84 85 89 92 90 93 95 94 97 95 97 93 8...\n",
      "4        2  117 105 95 73 72 65 49 66 92 105 126 154 177 1...\n",
      "5        3  138 138 138 118 129 146 138 120 89 57 50 47 54...\n",
      "6        5  141 132 104 64 37 27 24 23 19 18 19 20 23 22 2...\n",
      "7        3  17 23 19 14 31 27 28 41 52 69 88 96 106 108 10...\n",
      "8        6  117 110 91 49 44 46 47 41 26 39 57 71 83 91 10...\n",
      "9        3  89 141 163 153 136 128 127 125 121 116 30 23 2...\n"
     ]
    }
   ],
   "source": [
    "train_df = load_data(\"data/oversampled_train.csv\")\n",
    "val_df = load_data(\"data/validation.csv\")\n",
    "\n",
    "print(\"Training Data\")\n",
    "print(train_df.head(10))\n",
    "\n",
    "print(\"\\n\\nValidation Data\")\n",
    "print(val_df.head(10))"
   ]
  },
  {
   "cell_type": "code",
   "execution_count": 3,
   "metadata": {
    "ExecuteTime": {
     "end_time": "2024-12-05T16:07:17.397147Z",
     "start_time": "2024-12-05T16:07:17.387174Z"
    },
    "colab": {
     "base_uri": "https://localhost:8080/"
    },
    "id": "7JiE5yJDO1IA",
    "outputId": "e652ec0a-1317-4ace-e71e-83c4fbe98237"
   },
   "outputs": [
    {
     "name": "stdout",
     "output_type": "stream",
     "text": [
      "Training data shape: (40404, 2)\n",
      "Validation data shape (5742, 2)\n"
     ]
    }
   ],
   "source": [
    "print(\"Training data shape:\", train_df.shape)\n",
    "print(\"Validation data shape\", val_df.shape)"
   ]
  },
  {
   "cell_type": "markdown",
   "metadata": {
    "id": "SHpwVsoYO1IH"
   },
   "source": [
    "## 2. Define a custom dataset\n",
    "We define a custom PyTorch dataset class, `Fer2013Dataset`, for handling the FER2013 data. The dataset is designed to load images (stored as pixel strings) and their corresponding emotion labels. It also supports optional transformations to preprocess the images during training. This setup makes it easy to integrate the dataset with PyTorch DataLoaders.\n",
    "\n",
    "The class is contained in the `utils/fer2013_dataset` file"
   ]
  },
  {
   "cell_type": "markdown",
   "metadata": {
    "id": "0H7qrip4FAmF"
   },
   "source": [
    "We also apply the following preprocessing steps to convert the data into the desired format we can further work with:\n",
    "1. **Reshaping**:\n",
    "   - Convert the pixel string into a `48x48` matrix for visualization and processing.\n",
    "2. **Scaling**:\n",
    "   - Scale pixel values to the range `[0, 1]` by dividing the pixel values by 255.\n",
    "3. **Normalization**:\n",
    "   - Normalize pixel values to the range `[-1, 1]` by subtracting the mean and diving them by the standard deviation.\n",
    "\n",
    "\n",
    "These preprocessing steps are contained in the class `ReshapeAndScale`, which is available under path `utils/preprocessing.py`."
   ]
  },
  {
   "cell_type": "code",
   "execution_count": 4,
   "metadata": {
    "id": "JsEGbftDFAmF"
   },
   "outputs": [],
   "source": [
    "# Define a default transformation pipeline\n",
    "transform = transforms.Compose([\n",
    "    ReshapeAndScale(n_rows=48, n_cols=48),\n",
    "    transforms.Normalize(mean=[0.5], std=[0.5])  # Normalize to [-1, 1]\n",
    "])"
   ]
  },
  {
   "cell_type": "code",
   "execution_count": 5,
   "metadata": {
    "ExecuteTime": {
     "end_time": "2024-12-05T16:07:19.877304Z",
     "start_time": "2024-12-05T16:07:19.870241Z"
    },
    "id": "8cuhkZCOO1II"
   },
   "outputs": [],
   "source": [
    "train_dataset = Fer2013Dataset(train_df, train_df['emotion'], transform=transform)\n",
    "val_dataset = Fer2013Dataset(val_df, val_df['emotion'], transform=transform)"
   ]
  },
  {
   "cell_type": "markdown",
   "metadata": {
    "id": "88hY8FsgFAmF"
   },
   "source": [
    "### Create DataLoaders\n",
    "\n",
    "We create DataLoaders for both subsets to enable batch processing. The training DataLoader shuffles the data for better learning, while the validation DataLoader does not. Finally, we print the shapes of the batches to verify that everything works correctly.\n"
   ]
  },
  {
   "cell_type": "code",
   "execution_count": 6,
   "metadata": {
    "ExecuteTime": {
     "end_time": "2024-12-05T16:07:58.887965Z",
     "start_time": "2024-12-05T16:07:19.894776Z"
    },
    "id": "rAQ30-FQO1IJ"
   },
   "outputs": [],
   "source": [
    "batch_size = 32\n",
    "train_loader, val_loader = create_dataloaders(train_dataset, val_dataset, batch_size)"
   ]
  },
  {
   "cell_type": "markdown",
   "metadata": {
    "id": "pge_vvuYO1IN"
   },
   "source": [
    "## 3. Define the CNN model"
   ]
  },
  {
   "cell_type": "markdown",
   "metadata": {
    "id": "tdWl8saXFAmF"
   },
   "source": [
    "We define a custom Convolutional Neural Network (CNN) for emotion recognition. The model includes multiple convolutional layers with batch normalization, dropout for regularization, max pooling for downsampling, and fully connected layers for classification.\n",
    "\n",
    "The network dynamically calculates the flattened size needed for the fully connected layers based on the input size (48x48 grayscale images). Finally, we instantiate the model, move it to the available device (CPU or GPU), and print its architecture for verification.\n"
   ]
  },
  {
   "cell_type": "code",
   "execution_count": 7,
   "metadata": {
    "ExecuteTime": {
     "end_time": "2024-12-05T16:07:59.032722Z",
     "start_time": "2024-12-05T16:07:58.948090Z"
    },
    "colab": {
     "base_uri": "https://localhost:8080/"
    },
    "id": "xvFxqkzxO1IO",
    "outputId": "ed352640-12b2-4aa9-d739-2cc565781d35"
   },
   "outputs": [
    {
     "name": "stdout",
     "output_type": "stream",
     "text": [
      "mps\n",
      "CNN(\n",
      "  (conv1): Conv2d(1, 32, kernel_size=(3, 3), stride=(1, 1), padding=valid)\n",
      "  (bn1): BatchNorm2d(32, eps=1e-05, momentum=0.1, affine=True, track_running_stats=True)\n",
      "  (dropout1): Dropout(p=0.25, inplace=False)\n",
      "  (conv2): Conv2d(32, 64, kernel_size=(3, 3), stride=(1, 1), padding=same)\n",
      "  (bn2): BatchNorm2d(64, eps=1e-05, momentum=0.1, affine=True, track_running_stats=True)\n",
      "  (pool2): MaxPool2d(kernel_size=2, stride=2, padding=0, dilation=1, ceil_mode=False)\n",
      "  (conv3): Conv2d(64, 64, kernel_size=(3, 3), stride=(1, 1), padding=valid)\n",
      "  (bn3): BatchNorm2d(64, eps=1e-05, momentum=0.1, affine=True, track_running_stats=True)\n",
      "  (dropout3): Dropout(p=0.25, inplace=False)\n",
      "  (conv4): Conv2d(64, 128, kernel_size=(3, 3), stride=(1, 1), padding=same)\n",
      "  (bn4): BatchNorm2d(128, eps=1e-05, momentum=0.1, affine=True, track_running_stats=True)\n",
      "  (pool4): MaxPool2d(kernel_size=2, stride=2, padding=0, dilation=1, ceil_mode=False)\n",
      "  (conv5): Conv2d(128, 128, kernel_size=(3, 3), stride=(1, 1), padding=valid)\n",
      "  (bn5): BatchNorm2d(128, eps=1e-05, momentum=0.1, affine=True, track_running_stats=True)\n",
      "  (pool5): MaxPool2d(kernel_size=2, stride=2, padding=0, dilation=1, ceil_mode=False)\n",
      "  (conv6): Conv2d(128, 256, kernel_size=(3, 3), stride=(1, 1), padding=same)\n",
      "  (bn6): BatchNorm2d(256, eps=1e-05, momentum=0.1, affine=True, track_running_stats=True)\n",
      "  (conv7): Conv2d(256, 512, kernel_size=(2, 2), stride=(1, 1), padding=valid)\n",
      "  (bn7): BatchNorm2d(512, eps=1e-05, momentum=0.1, affine=True, track_running_stats=True)\n",
      "  (pool7): MaxPool2d(kernel_size=2, stride=2, padding=0, dilation=1, ceil_mode=False)\n",
      "  (fc1): Linear(in_features=512, out_features=250, bias=True)\n",
      "  (dropout_fc): Dropout(p=0.5, inplace=False)\n",
      "  (fc2): Linear(in_features=250, out_features=7, bias=True)\n",
      ")\n"
     ]
    }
   ],
   "source": [
    "class CNN(nn.Module):\n",
    "    def __init__(self):\n",
    "        super(CNN, self).__init__()\n",
    "\n",
    "        # 1st Conv Layer\n",
    "        self.conv1 = nn.Conv2d(in_channels=1, out_channels=32, kernel_size=3, stride=1, padding='valid')\n",
    "        self.bn1 = nn.BatchNorm2d(32)\n",
    "        self.dropout1 = nn.Dropout(0.25)\n",
    "\n",
    "        # 2nd Conv Layer\n",
    "        self.conv2 = nn.Conv2d(in_channels=32, out_channels=64, kernel_size=3, stride=1, padding='same')\n",
    "        self.bn2 = nn.BatchNorm2d(64)\n",
    "        self.pool2 = nn.MaxPool2d(kernel_size=2, stride=2)\n",
    "\n",
    "        # 3rd Conv Layer\n",
    "        self.conv3 = nn.Conv2d(in_channels=64, out_channels=64, kernel_size=3, stride=1, padding='valid')\n",
    "        self.bn3 = nn.BatchNorm2d(64)\n",
    "        self.dropout3 = nn.Dropout(0.25)\n",
    "\n",
    "        # 4th Conv Layer\n",
    "        self.conv4 = nn.Conv2d(in_channels=64, out_channels=128, kernel_size=3, stride=1, padding='same')\n",
    "        self.bn4 = nn.BatchNorm2d(128)\n",
    "        self.pool4 = nn.MaxPool2d(kernel_size=2, stride=2)\n",
    "\n",
    "        # 5th Conv Layer\n",
    "        self.conv5 = nn.Conv2d(in_channels=128, out_channels=128, kernel_size=3, stride=1, padding='valid')\n",
    "        self.bn5 = nn.BatchNorm2d(128)\n",
    "        self.pool5 = nn.MaxPool2d(kernel_size=2, stride=2)\n",
    "\n",
    "        # 6th Conv Layer\n",
    "        self.conv6 = nn.Conv2d(in_channels=128, out_channels=256, kernel_size=3, stride=1, padding='same')\n",
    "        self.bn6 = nn.BatchNorm2d(256)\n",
    "\n",
    "        # 7th Conv Layer\n",
    "        self.conv7 = nn.Conv2d(in_channels=256, out_channels=512, kernel_size=2, stride=1, padding='valid')  # Kernel size reduced to 2\n",
    "        self.bn7 = nn.BatchNorm2d(512)\n",
    "        self.pool7 = nn.MaxPool2d(kernel_size=2, stride=2, padding=0) # No padding to maintain the size\n",
    "\n",
    "        # Calculate the flatten size dynamically\n",
    "        self.flatten_size = self._get_flatten_size()\n",
    "\n",
    "        # Fully Connected Layers\n",
    "        self.fc1 = nn.Linear(self.flatten_size, 250)\n",
    "        self.dropout_fc = nn.Dropout(0.5)\n",
    "        self.fc2 = nn.Linear(250, 7)  # 7 classes for emotion recognition\n",
    "\n",
    "    def _get_flatten_size(self):\n",
    "        # Create a dummy tensor with the same size as input image\n",
    "        dummy_input = torch.zeros(1, 1, 48, 48)  # batch_size, channels, height, width\n",
    "        dummy_output = self._forward_conv_layers(dummy_input)\n",
    "        return dummy_output.numel()\n",
    "\n",
    "    def _forward_conv_layers(self, x):\n",
    "        # Pass through convolutional layers\n",
    "        x = self.conv1(x)\n",
    "        x = self.bn1(x)\n",
    "        x = F.relu(x)\n",
    "        x = self.dropout1(x)\n",
    "\n",
    "        x = self.conv2(x)\n",
    "        x = self.bn2(x)\n",
    "        x = F.relu(x)\n",
    "        x = self.pool2(x)\n",
    "\n",
    "        x = self.conv3(x)\n",
    "        x = self.bn3(x)\n",
    "        x = F.relu(x)\n",
    "        x = self.dropout3(x)\n",
    "\n",
    "        x = self.conv4(x)\n",
    "        x = self.bn4(x)\n",
    "        x = F.relu(x)\n",
    "        x = self.pool4(x)\n",
    "\n",
    "        x = self.conv5(x)\n",
    "        x = self.bn5(x)\n",
    "        x = F.relu(x)\n",
    "        x = self.pool5(x)\n",
    "\n",
    "        x = self.conv6(x)\n",
    "        x = self.bn6(x)\n",
    "        x = F.relu(x)\n",
    "\n",
    "        x = self.conv7(x)\n",
    "        x = self.bn7(x)\n",
    "        x = F.relu(x)\n",
    "        x = self.pool7(x)\n",
    "\n",
    "        return x\n",
    "\n",
    "    def forward(self, x):\n",
    "        # Use the convolutional layers defined in _forward_conv_layers\n",
    "        x = self._forward_conv_layers(x)\n",
    "\n",
    "        # Dynamically flatten the output\n",
    "        x = x.view(x.size(0), -1)  # Flatten the tensor\n",
    "        x = F.relu(self.fc1(x))\n",
    "        x = self.dropout_fc(x)\n",
    "        x = self.fc2(x)\n",
    "\n",
    "        return x\n",
    "\n",
    "\n",
    "# Instantiate the model\n",
    "device = torch.device(\"mps\" if torch.backends.mps.is_available() else \"cpu\")\n",
    "print(device)\n",
    "model = CNN()\n",
    "model = model.to(device)\n",
    "\n",
    "# Print model to verify layers\n",
    "print(model)"
   ]
  },
  {
   "cell_type": "markdown",
   "metadata": {
    "id": "Ih96_9QUFAmG"
   },
   "source": [
    "## 4. Define Loss Function and Optimizer"
   ]
  },
  {
   "cell_type": "markdown",
   "metadata": {
    "id": "VXo7WDpaFAmG"
   },
   "source": [
    "In this cell, we define the loss function and optimizer for training the model:\n",
    "- **Loss Function**: `CrossEntropyLoss` is used, which is well-suited for multi-class classification tasks like emotion recognition.\n",
    "- **Optimizer**: The Adam optimizer is initialized with a learning rate of `0.0001` to update the model parameters during training."
   ]
  },
  {
   "cell_type": "code",
   "execution_count": 8,
   "metadata": {
    "ExecuteTime": {
     "end_time": "2024-12-05T16:07:59.063835Z",
     "start_time": "2024-12-05T16:07:59.059962Z"
    },
    "id": "WFyRGyfXO1IR"
   },
   "outputs": [],
   "source": [
    "criterion = nn.CrossEntropyLoss()  # Loss function for classification\n",
    "optimizer = optim.Adam(model.parameters(), lr=0.0001)  # call optimizer"
   ]
  },
  {
   "cell_type": "markdown",
   "metadata": {
    "id": "FMHZrQsZO1IR"
   },
   "source": [
    "## 5. Train the Model"
   ]
  },
  {
   "cell_type": "markdown",
   "metadata": {
    "id": "HrHdD-50FAmG"
   },
   "source": [
    "In this cell, we define the training loop for the CNN:\n",
    "- **Number of Epochs**: The model is trained for 35 epochs.\n",
    "- **Training Process**:\n",
    "  - The model is set to training mode.\n",
    "  - For each batch, we move inputs and labels to the appropriate device, clear the gradients, perform forward and backward passes, and update the model's parameters using the optimizer.\n",
    "  - The running loss is tracked and printed every 100 batches for monitoring."
   ]
  },
  {
   "cell_type": "code",
   "execution_count": 9,
   "metadata": {
    "ExecuteTime": {
     "end_time": "2024-12-05T19:33:10.523679Z",
     "start_time": "2024-12-05T16:07:59.073844Z"
    },
    "colab": {
     "base_uri": "https://localhost:8080/"
    },
    "id": "iX3PbDPqO1IR",
    "outputId": "3938ae5c-23f1-402f-de29-d2c45f9dec02"
   },
   "outputs": [
    {
     "name": "stdout",
     "output_type": "stream",
     "text": [
      "Epoch [1/35], Step [100/1263], Loss: 1.9385\n",
      "Epoch [1/35], Step [200/1263], Loss: 1.8753\n",
      "Epoch [1/35], Step [300/1263], Loss: 1.8200\n",
      "Epoch [1/35], Step [400/1263], Loss: 1.7417\n",
      "Epoch [1/35], Step [500/1263], Loss: 1.6932\n",
      "Epoch [1/35], Step [600/1263], Loss: 1.6127\n",
      "Epoch [1/35], Step [700/1263], Loss: 1.5464\n",
      "Epoch [1/35], Step [800/1263], Loss: 1.5017\n",
      "Epoch [1/35], Step [900/1263], Loss: 1.4591\n",
      "Epoch [1/35], Step [1000/1263], Loss: 1.4490\n",
      "Epoch [1/35], Step [1100/1263], Loss: 1.4132\n",
      "Epoch [1/35], Step [1200/1263], Loss: 1.3735\n",
      "Epoch [2/35], Step [100/1263], Loss: 1.2902\n",
      "Epoch [2/35], Step [200/1263], Loss: 1.2415\n",
      "Epoch [2/35], Step [300/1263], Loss: 1.2440\n",
      "Epoch [2/35], Step [400/1263], Loss: 1.2212\n",
      "Epoch [2/35], Step [500/1263], Loss: 1.2280\n",
      "Epoch [2/35], Step [600/1263], Loss: 1.1924\n",
      "Epoch [2/35], Step [700/1263], Loss: 1.1731\n",
      "Epoch [2/35], Step [800/1263], Loss: 1.1307\n",
      "Epoch [2/35], Step [900/1263], Loss: 1.1318\n",
      "Epoch [2/35], Step [1000/1263], Loss: 1.1427\n",
      "Epoch [2/35], Step [1100/1263], Loss: 1.1113\n",
      "Epoch [2/35], Step [1200/1263], Loss: 1.1191\n",
      "Epoch [3/35], Step [100/1263], Loss: 1.0135\n",
      "Epoch [3/35], Step [200/1263], Loss: 1.0604\n",
      "Epoch [3/35], Step [300/1263], Loss: 1.0365\n",
      "Epoch [3/35], Step [400/1263], Loss: 0.9968\n",
      "Epoch [3/35], Step [500/1263], Loss: 1.0285\n",
      "Epoch [3/35], Step [600/1263], Loss: 0.9822\n",
      "Epoch [3/35], Step [700/1263], Loss: 1.0048\n",
      "Epoch [3/35], Step [800/1263], Loss: 0.9721\n",
      "Epoch [3/35], Step [900/1263], Loss: 0.9628\n",
      "Epoch [3/35], Step [1000/1263], Loss: 0.9523\n",
      "Epoch [3/35], Step [1100/1263], Loss: 0.9843\n",
      "Epoch [3/35], Step [1200/1263], Loss: 0.9748\n",
      "Epoch [4/35], Step [100/1263], Loss: 0.8956\n",
      "Epoch [4/35], Step [200/1263], Loss: 0.8833\n",
      "Epoch [4/35], Step [300/1263], Loss: 0.8853\n",
      "Epoch [4/35], Step [400/1263], Loss: 0.8773\n",
      "Epoch [4/35], Step [500/1263], Loss: 0.8668\n",
      "Epoch [4/35], Step [600/1263], Loss: 0.8421\n",
      "Epoch [4/35], Step [700/1263], Loss: 0.8758\n",
      "Epoch [4/35], Step [800/1263], Loss: 0.8802\n",
      "Epoch [4/35], Step [900/1263], Loss: 0.8413\n",
      "Epoch [4/35], Step [1000/1263], Loss: 0.8575\n",
      "Epoch [4/35], Step [1100/1263], Loss: 0.8573\n",
      "Epoch [4/35], Step [1200/1263], Loss: 0.8216\n",
      "Epoch [5/35], Step [100/1263], Loss: 0.7437\n",
      "Epoch [5/35], Step [200/1263], Loss: 0.7428\n",
      "Epoch [5/35], Step [300/1263], Loss: 0.7264\n",
      "Epoch [5/35], Step [400/1263], Loss: 0.7317\n",
      "Epoch [5/35], Step [500/1263], Loss: 0.7693\n",
      "Epoch [5/35], Step [600/1263], Loss: 0.7512\n",
      "Epoch [5/35], Step [700/1263], Loss: 0.7255\n",
      "Epoch [5/35], Step [800/1263], Loss: 0.7337\n",
      "Epoch [5/35], Step [900/1263], Loss: 0.7410\n",
      "Epoch [5/35], Step [1000/1263], Loss: 0.7118\n",
      "Epoch [5/35], Step [1100/1263], Loss: 0.7066\n",
      "Epoch [5/35], Step [1200/1263], Loss: 0.7263\n",
      "Epoch [6/35], Step [100/1263], Loss: 0.5844\n",
      "Epoch [6/35], Step [200/1263], Loss: 0.6053\n",
      "Epoch [6/35], Step [300/1263], Loss: 0.6312\n",
      "Epoch [6/35], Step [400/1263], Loss: 0.6111\n",
      "Epoch [6/35], Step [500/1263], Loss: 0.6579\n",
      "Epoch [6/35], Step [600/1263], Loss: 0.5996\n",
      "Epoch [6/35], Step [700/1263], Loss: 0.6062\n",
      "Epoch [6/35], Step [800/1263], Loss: 0.6354\n",
      "Epoch [6/35], Step [900/1263], Loss: 0.6095\n",
      "Epoch [6/35], Step [1000/1263], Loss: 0.6121\n",
      "Epoch [6/35], Step [1100/1263], Loss: 0.5798\n",
      "Epoch [6/35], Step [1200/1263], Loss: 0.6162\n",
      "Epoch [7/35], Step [100/1263], Loss: 0.5154\n",
      "Epoch [7/35], Step [200/1263], Loss: 0.4867\n",
      "Epoch [7/35], Step [300/1263], Loss: 0.4797\n",
      "Epoch [7/35], Step [400/1263], Loss: 0.5041\n",
      "Epoch [7/35], Step [500/1263], Loss: 0.5093\n",
      "Epoch [7/35], Step [600/1263], Loss: 0.4861\n",
      "Epoch [7/35], Step [700/1263], Loss: 0.4954\n",
      "Epoch [7/35], Step [800/1263], Loss: 0.4951\n",
      "Epoch [7/35], Step [900/1263], Loss: 0.5113\n",
      "Epoch [7/35], Step [1000/1263], Loss: 0.5011\n",
      "Epoch [7/35], Step [1100/1263], Loss: 0.5089\n",
      "Epoch [7/35], Step [1200/1263], Loss: 0.5014\n",
      "Epoch [8/35], Step [100/1263], Loss: 0.4007\n",
      "Epoch [8/35], Step [200/1263], Loss: 0.3872\n",
      "Epoch [8/35], Step [300/1263], Loss: 0.4198\n",
      "Epoch [8/35], Step [400/1263], Loss: 0.3686\n",
      "Epoch [8/35], Step [500/1263], Loss: 0.4083\n",
      "Epoch [8/35], Step [600/1263], Loss: 0.3987\n",
      "Epoch [8/35], Step [700/1263], Loss: 0.4042\n",
      "Epoch [8/35], Step [800/1263], Loss: 0.4059\n",
      "Epoch [8/35], Step [900/1263], Loss: 0.4108\n",
      "Epoch [8/35], Step [1000/1263], Loss: 0.4212\n",
      "Epoch [8/35], Step [1100/1263], Loss: 0.4126\n",
      "Epoch [8/35], Step [1200/1263], Loss: 0.4090\n",
      "Epoch [9/35], Step [100/1263], Loss: 0.2758\n",
      "Epoch [9/35], Step [200/1263], Loss: 0.3142\n",
      "Epoch [9/35], Step [300/1263], Loss: 0.3031\n",
      "Epoch [9/35], Step [400/1263], Loss: 0.3144\n",
      "Epoch [9/35], Step [500/1263], Loss: 0.3112\n",
      "Epoch [9/35], Step [600/1263], Loss: 0.3365\n",
      "Epoch [9/35], Step [700/1263], Loss: 0.3317\n",
      "Epoch [9/35], Step [800/1263], Loss: 0.3391\n",
      "Epoch [9/35], Step [900/1263], Loss: 0.3275\n",
      "Epoch [9/35], Step [1000/1263], Loss: 0.3340\n",
      "Epoch [9/35], Step [1100/1263], Loss: 0.3349\n",
      "Epoch [9/35], Step [1200/1263], Loss: 0.3626\n",
      "Epoch [10/35], Step [100/1263], Loss: 0.2470\n",
      "Epoch [10/35], Step [200/1263], Loss: 0.2728\n",
      "Epoch [10/35], Step [300/1263], Loss: 0.2664\n",
      "Epoch [10/35], Step [400/1263], Loss: 0.2518\n",
      "Epoch [10/35], Step [500/1263], Loss: 0.2409\n",
      "Epoch [10/35], Step [600/1263], Loss: 0.2522\n",
      "Epoch [10/35], Step [700/1263], Loss: 0.2643\n",
      "Epoch [10/35], Step [800/1263], Loss: 0.2659\n",
      "Epoch [10/35], Step [900/1263], Loss: 0.2771\n",
      "Epoch [10/35], Step [1000/1263], Loss: 0.2661\n",
      "Epoch [10/35], Step [1100/1263], Loss: 0.2859\n",
      "Epoch [10/35], Step [1200/1263], Loss: 0.2578\n",
      "Checkpoint saved at epoch 10\n",
      "Epoch [11/35], Step [100/1263], Loss: 0.2049\n",
      "Epoch [11/35], Step [200/1263], Loss: 0.1983\n",
      "Epoch [11/35], Step [300/1263], Loss: 0.1998\n",
      "Epoch [11/35], Step [400/1263], Loss: 0.1876\n",
      "Epoch [11/35], Step [500/1263], Loss: 0.2251\n",
      "Epoch [11/35], Step [600/1263], Loss: 0.2085\n",
      "Epoch [11/35], Step [700/1263], Loss: 0.2049\n",
      "Epoch [11/35], Step [800/1263], Loss: 0.2333\n",
      "Epoch [11/35], Step [900/1263], Loss: 0.2354\n",
      "Epoch [11/35], Step [1000/1263], Loss: 0.2290\n",
      "Epoch [11/35], Step [1100/1263], Loss: 0.2361\n",
      "Epoch [11/35], Step [1200/1263], Loss: 0.2305\n",
      "Epoch [12/35], Step [100/1263], Loss: 0.1576\n",
      "Epoch [12/35], Step [200/1263], Loss: 0.1451\n",
      "Epoch [12/35], Step [300/1263], Loss: 0.1628\n",
      "Epoch [12/35], Step [400/1263], Loss: 0.1601\n",
      "Epoch [12/35], Step [500/1263], Loss: 0.1758\n",
      "Epoch [12/35], Step [600/1263], Loss: 0.2073\n",
      "Epoch [12/35], Step [700/1263], Loss: 0.1931\n",
      "Epoch [12/35], Step [800/1263], Loss: 0.2173\n",
      "Epoch [12/35], Step [900/1263], Loss: 0.2010\n",
      "Epoch [12/35], Step [1000/1263], Loss: 0.2056\n",
      "Epoch [12/35], Step [1100/1263], Loss: 0.1961\n",
      "Epoch [12/35], Step [1200/1263], Loss: 0.2024\n",
      "Epoch [13/35], Step [100/1263], Loss: 0.1221\n",
      "Epoch [13/35], Step [200/1263], Loss: 0.1439\n",
      "Epoch [13/35], Step [300/1263], Loss: 0.1454\n",
      "Epoch [13/35], Step [400/1263], Loss: 0.1460\n",
      "Epoch [13/35], Step [500/1263], Loss: 0.1405\n",
      "Epoch [13/35], Step [600/1263], Loss: 0.1518\n",
      "Epoch [13/35], Step [700/1263], Loss: 0.1376\n",
      "Epoch [13/35], Step [800/1263], Loss: 0.1612\n",
      "Epoch [13/35], Step [900/1263], Loss: 0.1651\n",
      "Epoch [13/35], Step [1000/1263], Loss: 0.1747\n",
      "Epoch [13/35], Step [1100/1263], Loss: 0.1852\n",
      "Epoch [13/35], Step [1200/1263], Loss: 0.1748\n",
      "Epoch [14/35], Step [100/1263], Loss: 0.1121\n",
      "Epoch [14/35], Step [200/1263], Loss: 0.1219\n",
      "Epoch [14/35], Step [300/1263], Loss: 0.1291\n",
      "Epoch [14/35], Step [400/1263], Loss: 0.1236\n",
      "Epoch [14/35], Step [500/1263], Loss: 0.1319\n",
      "Epoch [14/35], Step [600/1263], Loss: 0.1417\n",
      "Epoch [14/35], Step [700/1263], Loss: 0.1572\n",
      "Epoch [14/35], Step [800/1263], Loss: 0.1389\n",
      "Epoch [14/35], Step [900/1263], Loss: 0.1490\n",
      "Epoch [14/35], Step [1000/1263], Loss: 0.1484\n",
      "Epoch [14/35], Step [1100/1263], Loss: 0.1448\n",
      "Epoch [14/35], Step [1200/1263], Loss: 0.1296\n",
      "Epoch [15/35], Step [100/1263], Loss: 0.1172\n",
      "Epoch [15/35], Step [200/1263], Loss: 0.1007\n",
      "Epoch [15/35], Step [300/1263], Loss: 0.1100\n",
      "Epoch [15/35], Step [400/1263], Loss: 0.1315\n",
      "Epoch [15/35], Step [500/1263], Loss: 0.1182\n",
      "Epoch [15/35], Step [600/1263], Loss: 0.1252\n",
      "Epoch [15/35], Step [700/1263], Loss: 0.1219\n",
      "Epoch [15/35], Step [800/1263], Loss: 0.1154\n",
      "Epoch [15/35], Step [900/1263], Loss: 0.1222\n",
      "Epoch [15/35], Step [1000/1263], Loss: 0.1417\n",
      "Epoch [15/35], Step [1100/1263], Loss: 0.1347\n",
      "Epoch [15/35], Step [1200/1263], Loss: 0.1128\n",
      "Epoch [16/35], Step [100/1263], Loss: 0.1041\n",
      "Epoch [16/35], Step [200/1263], Loss: 0.0983\n",
      "Epoch [16/35], Step [300/1263], Loss: 0.1007\n",
      "Epoch [16/35], Step [400/1263], Loss: 0.1097\n",
      "Epoch [16/35], Step [500/1263], Loss: 0.1104\n",
      "Epoch [16/35], Step [600/1263], Loss: 0.1131\n",
      "Epoch [16/35], Step [700/1263], Loss: 0.1115\n",
      "Epoch [16/35], Step [800/1263], Loss: 0.1154\n",
      "Epoch [16/35], Step [900/1263], Loss: 0.1084\n",
      "Epoch [16/35], Step [1000/1263], Loss: 0.1190\n",
      "Epoch [16/35], Step [1100/1263], Loss: 0.1173\n",
      "Epoch [16/35], Step [1200/1263], Loss: 0.1297\n",
      "Epoch [17/35], Step [100/1263], Loss: 0.0726\n",
      "Epoch [17/35], Step [200/1263], Loss: 0.0812\n",
      "Epoch [17/35], Step [300/1263], Loss: 0.0945\n",
      "Epoch [17/35], Step [400/1263], Loss: 0.0881\n",
      "Epoch [17/35], Step [500/1263], Loss: 0.1085\n",
      "Epoch [17/35], Step [600/1263], Loss: 0.1113\n",
      "Epoch [17/35], Step [700/1263], Loss: 0.1274\n",
      "Epoch [17/35], Step [800/1263], Loss: 0.1077\n",
      "Epoch [17/35], Step [900/1263], Loss: 0.0905\n",
      "Epoch [17/35], Step [1000/1263], Loss: 0.0948\n",
      "Epoch [17/35], Step [1100/1263], Loss: 0.1138\n",
      "Epoch [17/35], Step [1200/1263], Loss: 0.1290\n",
      "Epoch [18/35], Step [100/1263], Loss: 0.0747\n",
      "Epoch [18/35], Step [200/1263], Loss: 0.0977\n",
      "Epoch [18/35], Step [300/1263], Loss: 0.0835\n",
      "Epoch [18/35], Step [400/1263], Loss: 0.0754\n",
      "Epoch [18/35], Step [500/1263], Loss: 0.1223\n",
      "Epoch [18/35], Step [600/1263], Loss: 0.1001\n",
      "Epoch [18/35], Step [700/1263], Loss: 0.0907\n",
      "Epoch [18/35], Step [800/1263], Loss: 0.0947\n",
      "Epoch [18/35], Step [900/1263], Loss: 0.1124\n",
      "Epoch [18/35], Step [1000/1263], Loss: 0.0933\n",
      "Epoch [18/35], Step [1100/1263], Loss: 0.0831\n",
      "Epoch [18/35], Step [1200/1263], Loss: 0.1016\n",
      "Epoch [19/35], Step [100/1263], Loss: 0.0751\n",
      "Epoch [19/35], Step [200/1263], Loss: 0.1023\n",
      "Epoch [19/35], Step [300/1263], Loss: 0.0798\n",
      "Epoch [19/35], Step [400/1263], Loss: 0.0925\n",
      "Epoch [19/35], Step [500/1263], Loss: 0.0871\n",
      "Epoch [19/35], Step [600/1263], Loss: 0.0720\n",
      "Epoch [19/35], Step [700/1263], Loss: 0.0983\n",
      "Epoch [19/35], Step [800/1263], Loss: 0.1003\n",
      "Epoch [19/35], Step [900/1263], Loss: 0.0817\n",
      "Epoch [19/35], Step [1000/1263], Loss: 0.0990\n",
      "Epoch [19/35], Step [1100/1263], Loss: 0.1172\n",
      "Epoch [19/35], Step [1200/1263], Loss: 0.1048\n",
      "Epoch [20/35], Step [100/1263], Loss: 0.0634\n",
      "Epoch [20/35], Step [200/1263], Loss: 0.0864\n",
      "Epoch [20/35], Step [300/1263], Loss: 0.0622\n",
      "Epoch [20/35], Step [400/1263], Loss: 0.0818\n",
      "Epoch [20/35], Step [500/1263], Loss: 0.0663\n",
      "Epoch [20/35], Step [600/1263], Loss: 0.0982\n",
      "Epoch [20/35], Step [700/1263], Loss: 0.0719\n",
      "Epoch [20/35], Step [800/1263], Loss: 0.0832\n",
      "Epoch [20/35], Step [900/1263], Loss: 0.0926\n",
      "Epoch [20/35], Step [1000/1263], Loss: 0.1022\n",
      "Epoch [20/35], Step [1100/1263], Loss: 0.0794\n",
      "Epoch [20/35], Step [1200/1263], Loss: 0.1027\n",
      "Checkpoint saved at epoch 20\n",
      "Epoch [21/35], Step [100/1263], Loss: 0.0553\n",
      "Epoch [21/35], Step [200/1263], Loss: 0.0537\n",
      "Epoch [21/35], Step [300/1263], Loss: 0.0742\n",
      "Epoch [21/35], Step [400/1263], Loss: 0.0737\n",
      "Epoch [21/35], Step [500/1263], Loss: 0.0727\n",
      "Epoch [21/35], Step [600/1263], Loss: 0.0856\n",
      "Epoch [21/35], Step [700/1263], Loss: 0.0687\n",
      "Epoch [21/35], Step [800/1263], Loss: 0.0831\n",
      "Epoch [21/35], Step [900/1263], Loss: 0.0776\n",
      "Epoch [21/35], Step [1000/1263], Loss: 0.0791\n",
      "Epoch [21/35], Step [1100/1263], Loss: 0.1063\n",
      "Epoch [21/35], Step [1200/1263], Loss: 0.0799\n",
      "Epoch [22/35], Step [100/1263], Loss: 0.0773\n",
      "Epoch [22/35], Step [200/1263], Loss: 0.0559\n",
      "Epoch [22/35], Step [300/1263], Loss: 0.0724\n",
      "Epoch [22/35], Step [400/1263], Loss: 0.0751\n",
      "Epoch [22/35], Step [500/1263], Loss: 0.0637\n",
      "Epoch [22/35], Step [600/1263], Loss: 0.0694\n",
      "Epoch [22/35], Step [700/1263], Loss: 0.0933\n",
      "Epoch [22/35], Step [800/1263], Loss: 0.0684\n",
      "Epoch [22/35], Step [900/1263], Loss: 0.0558\n",
      "Epoch [22/35], Step [1000/1263], Loss: 0.0714\n",
      "Epoch [22/35], Step [1100/1263], Loss: 0.0882\n",
      "Epoch [22/35], Step [1200/1263], Loss: 0.1020\n",
      "Epoch [23/35], Step [100/1263], Loss: 0.0561\n",
      "Epoch [23/35], Step [200/1263], Loss: 0.0614\n",
      "Epoch [23/35], Step [300/1263], Loss: 0.0763\n",
      "Epoch [23/35], Step [400/1263], Loss: 0.0758\n",
      "Epoch [23/35], Step [500/1263], Loss: 0.0663\n",
      "Epoch [23/35], Step [600/1263], Loss: 0.0762\n",
      "Epoch [23/35], Step [700/1263], Loss: 0.0678\n",
      "Epoch [23/35], Step [800/1263], Loss: 0.0833\n",
      "Epoch [23/35], Step [900/1263], Loss: 0.0851\n",
      "Epoch [23/35], Step [1000/1263], Loss: 0.0778\n",
      "Epoch [23/35], Step [1100/1263], Loss: 0.0713\n",
      "Epoch [23/35], Step [1200/1263], Loss: 0.0625\n",
      "Epoch [24/35], Step [100/1263], Loss: 0.0545\n",
      "Epoch [24/35], Step [200/1263], Loss: 0.0556\n",
      "Epoch [24/35], Step [300/1263], Loss: 0.0620\n",
      "Epoch [24/35], Step [400/1263], Loss: 0.0675\n",
      "Epoch [24/35], Step [500/1263], Loss: 0.0647\n",
      "Epoch [24/35], Step [600/1263], Loss: 0.0845\n",
      "Epoch [24/35], Step [700/1263], Loss: 0.0813\n",
      "Epoch [24/35], Step [800/1263], Loss: 0.0566\n",
      "Epoch [24/35], Step [900/1263], Loss: 0.0530\n",
      "Epoch [24/35], Step [1000/1263], Loss: 0.0657\n",
      "Epoch [24/35], Step [1100/1263], Loss: 0.0655\n",
      "Epoch [24/35], Step [1200/1263], Loss: 0.0845\n",
      "Epoch [25/35], Step [100/1263], Loss: 0.0715\n",
      "Epoch [25/35], Step [200/1263], Loss: 0.0529\n",
      "Epoch [25/35], Step [300/1263], Loss: 0.0574\n",
      "Epoch [25/35], Step [400/1263], Loss: 0.0721\n",
      "Epoch [25/35], Step [500/1263], Loss: 0.0529\n",
      "Epoch [25/35], Step [600/1263], Loss: 0.0719\n",
      "Epoch [25/35], Step [700/1263], Loss: 0.0893\n",
      "Epoch [25/35], Step [800/1263], Loss: 0.0741\n",
      "Epoch [25/35], Step [900/1263], Loss: 0.0645\n",
      "Epoch [25/35], Step [1000/1263], Loss: 0.0594\n",
      "Epoch [25/35], Step [1100/1263], Loss: 0.0653\n",
      "Epoch [25/35], Step [1200/1263], Loss: 0.0816\n",
      "Epoch [26/35], Step [100/1263], Loss: 0.0481\n",
      "Epoch [26/35], Step [200/1263], Loss: 0.0521\n",
      "Epoch [26/35], Step [300/1263], Loss: 0.0661\n",
      "Epoch [26/35], Step [400/1263], Loss: 0.0492\n",
      "Epoch [26/35], Step [500/1263], Loss: 0.0467\n",
      "Epoch [26/35], Step [600/1263], Loss: 0.0441\n",
      "Epoch [26/35], Step [700/1263], Loss: 0.0543\n",
      "Epoch [26/35], Step [800/1263], Loss: 0.0795\n",
      "Epoch [26/35], Step [900/1263], Loss: 0.0704\n",
      "Epoch [26/35], Step [1000/1263], Loss: 0.0619\n",
      "Epoch [26/35], Step [1100/1263], Loss: 0.0716\n",
      "Epoch [26/35], Step [1200/1263], Loss: 0.0700\n",
      "Epoch [27/35], Step [100/1263], Loss: 0.0543\n",
      "Epoch [27/35], Step [200/1263], Loss: 0.0508\n",
      "Epoch [27/35], Step [300/1263], Loss: 0.0508\n",
      "Epoch [27/35], Step [400/1263], Loss: 0.0452\n",
      "Epoch [27/35], Step [500/1263], Loss: 0.0518\n",
      "Epoch [27/35], Step [600/1263], Loss: 0.0611\n",
      "Epoch [27/35], Step [700/1263], Loss: 0.0562\n",
      "Epoch [27/35], Step [800/1263], Loss: 0.0788\n",
      "Epoch [27/35], Step [900/1263], Loss: 0.0624\n",
      "Epoch [27/35], Step [1000/1263], Loss: 0.0685\n",
      "Epoch [27/35], Step [1100/1263], Loss: 0.0594\n",
      "Epoch [27/35], Step [1200/1263], Loss: 0.0545\n",
      "Epoch [28/35], Step [100/1263], Loss: 0.0596\n",
      "Epoch [28/35], Step [200/1263], Loss: 0.0482\n",
      "Epoch [28/35], Step [300/1263], Loss: 0.0576\n",
      "Epoch [28/35], Step [400/1263], Loss: 0.0615\n",
      "Epoch [28/35], Step [500/1263], Loss: 0.0492\n",
      "Epoch [28/35], Step [600/1263], Loss: 0.0537\n",
      "Epoch [28/35], Step [700/1263], Loss: 0.0581\n",
      "Epoch [28/35], Step [800/1263], Loss: 0.0579\n",
      "Epoch [28/35], Step [900/1263], Loss: 0.0519\n",
      "Epoch [28/35], Step [1000/1263], Loss: 0.0603\n",
      "Epoch [28/35], Step [1100/1263], Loss: 0.0639\n",
      "Epoch [28/35], Step [1200/1263], Loss: 0.0590\n",
      "Epoch [29/35], Step [100/1263], Loss: 0.0467\n",
      "Epoch [29/35], Step [200/1263], Loss: 0.0516\n",
      "Epoch [29/35], Step [300/1263], Loss: 0.0474\n",
      "Epoch [29/35], Step [400/1263], Loss: 0.0493\n",
      "Epoch [29/35], Step [500/1263], Loss: 0.0414\n",
      "Epoch [29/35], Step [600/1263], Loss: 0.0652\n",
      "Epoch [29/35], Step [700/1263], Loss: 0.0585\n",
      "Epoch [29/35], Step [800/1263], Loss: 0.0478\n",
      "Epoch [29/35], Step [900/1263], Loss: 0.0554\n",
      "Epoch [29/35], Step [1000/1263], Loss: 0.0583\n",
      "Epoch [29/35], Step [1100/1263], Loss: 0.0760\n",
      "Epoch [29/35], Step [1200/1263], Loss: 0.0622\n",
      "Epoch [30/35], Step [100/1263], Loss: 0.0410\n",
      "Epoch [30/35], Step [200/1263], Loss: 0.0517\n",
      "Epoch [30/35], Step [300/1263], Loss: 0.0343\n",
      "Epoch [30/35], Step [400/1263], Loss: 0.0535\n",
      "Epoch [30/35], Step [500/1263], Loss: 0.0485\n",
      "Epoch [30/35], Step [600/1263], Loss: 0.0508\n",
      "Epoch [30/35], Step [700/1263], Loss: 0.0558\n",
      "Epoch [30/35], Step [800/1263], Loss: 0.0474\n",
      "Epoch [30/35], Step [900/1263], Loss: 0.0600\n",
      "Epoch [30/35], Step [1000/1263], Loss: 0.0567\n",
      "Epoch [30/35], Step [1100/1263], Loss: 0.0439\n",
      "Epoch [30/35], Step [1200/1263], Loss: 0.0524\n",
      "Checkpoint saved at epoch 30\n",
      "Epoch [31/35], Step [100/1263], Loss: 0.0544\n",
      "Epoch [31/35], Step [200/1263], Loss: 0.0518\n",
      "Epoch [31/35], Step [300/1263], Loss: 0.0632\n",
      "Epoch [31/35], Step [400/1263], Loss: 0.0489\n",
      "Epoch [31/35], Step [500/1263], Loss: 0.0541\n",
      "Epoch [31/35], Step [600/1263], Loss: 0.0724\n",
      "Epoch [31/35], Step [700/1263], Loss: 0.0627\n",
      "Epoch [31/35], Step [800/1263], Loss: 0.0422\n",
      "Epoch [31/35], Step [900/1263], Loss: 0.0474\n",
      "Epoch [31/35], Step [1000/1263], Loss: 0.0559\n",
      "Epoch [31/35], Step [1100/1263], Loss: 0.0392\n",
      "Epoch [31/35], Step [1200/1263], Loss: 0.0557\n",
      "Epoch [32/35], Step [100/1263], Loss: 0.0441\n",
      "Epoch [32/35], Step [200/1263], Loss: 0.0556\n",
      "Epoch [32/35], Step [300/1263], Loss: 0.0419\n",
      "Epoch [32/35], Step [400/1263], Loss: 0.0616\n",
      "Epoch [32/35], Step [500/1263], Loss: 0.0441\n",
      "Epoch [32/35], Step [600/1263], Loss: 0.0484\n",
      "Epoch [32/35], Step [700/1263], Loss: 0.0459\n",
      "Epoch [32/35], Step [800/1263], Loss: 0.0429\n",
      "Epoch [32/35], Step [900/1263], Loss: 0.0450\n",
      "Epoch [32/35], Step [1000/1263], Loss: 0.0558\n",
      "Epoch [32/35], Step [1100/1263], Loss: 0.0393\n",
      "Epoch [32/35], Step [1200/1263], Loss: 0.0394\n",
      "Epoch [33/35], Step [100/1263], Loss: 0.0337\n",
      "Epoch [33/35], Step [200/1263], Loss: 0.0418\n",
      "Epoch [33/35], Step [300/1263], Loss: 0.0393\n",
      "Epoch [33/35], Step [400/1263], Loss: 0.0366\n",
      "Epoch [33/35], Step [500/1263], Loss: 0.0555\n",
      "Epoch [33/35], Step [600/1263], Loss: 0.0475\n",
      "Epoch [33/35], Step [700/1263], Loss: 0.0526\n",
      "Epoch [33/35], Step [800/1263], Loss: 0.0440\n",
      "Epoch [33/35], Step [900/1263], Loss: 0.0407\n",
      "Epoch [33/35], Step [1000/1263], Loss: 0.0523\n",
      "Epoch [33/35], Step [1100/1263], Loss: 0.0553\n",
      "Epoch [33/35], Step [1200/1263], Loss: 0.0513\n",
      "Epoch [34/35], Step [100/1263], Loss: 0.0359\n",
      "Epoch [34/35], Step [200/1263], Loss: 0.0323\n",
      "Epoch [34/35], Step [300/1263], Loss: 0.0569\n",
      "Epoch [34/35], Step [400/1263], Loss: 0.0451\n",
      "Epoch [34/35], Step [500/1263], Loss: 0.0589\n",
      "Epoch [34/35], Step [600/1263], Loss: 0.0478\n",
      "Epoch [34/35], Step [700/1263], Loss: 0.0403\n",
      "Epoch [34/35], Step [800/1263], Loss: 0.0461\n",
      "Epoch [34/35], Step [900/1263], Loss: 0.0608\n",
      "Epoch [34/35], Step [1000/1263], Loss: 0.0450\n",
      "Epoch [34/35], Step [1100/1263], Loss: 0.0533\n",
      "Epoch [34/35], Step [1200/1263], Loss: 0.0508\n",
      "Epoch [35/35], Step [100/1263], Loss: 0.0338\n",
      "Epoch [35/35], Step [200/1263], Loss: 0.0312\n",
      "Epoch [35/35], Step [300/1263], Loss: 0.0428\n",
      "Epoch [35/35], Step [400/1263], Loss: 0.0343\n",
      "Epoch [35/35], Step [500/1263], Loss: 0.0394\n",
      "Epoch [35/35], Step [600/1263], Loss: 0.0455\n",
      "Epoch [35/35], Step [700/1263], Loss: 0.0575\n",
      "Epoch [35/35], Step [800/1263], Loss: 0.0540\n",
      "Epoch [35/35], Step [900/1263], Loss: 0.0490\n",
      "Epoch [35/35], Step [1000/1263], Loss: 0.0398\n",
      "Epoch [35/35], Step [1100/1263], Loss: 0.0503\n",
      "Epoch [35/35], Step [1200/1263], Loss: 0.0530\n"
     ]
    }
   ],
   "source": [
    "# Initialize TensorBoard writer\n",
    "writer = SummaryWriter(log_dir='facial-expression-detection/4_Group17_DLProject')\n",
    "\n",
    "checkpoint_path = 'model-checkpoints/4_Group17_DLProject'\n",
    "os.makedirs(checkpoint_path, exist_ok=True)\n",
    "model_save_path = 'models'\n",
    "os.makedirs(model_save_path, exist_ok=True)\n",
    "\n",
    "num_epochs = 35\n",
    "for epoch in range(num_epochs):\n",
    "    model.train()\n",
    "    running_loss = 0.0\n",
    "    for i, (inputs, labels) in enumerate(train_loader):\n",
    "        inputs, labels = inputs.to(device), labels.to(device)\n",
    "\n",
    "        # Zero the parameter gradients\n",
    "        optimizer.zero_grad()\n",
    "\n",
    "        # Forward pass\n",
    "        outputs = model(inputs)\n",
    "        loss = criterion(outputs, labels)\n",
    "\n",
    "        # Backward pass\n",
    "        loss.backward()\n",
    "        optimizer.step()\n",
    "\n",
    "        running_loss += loss.item()\n",
    "        if (i + 1) % 100 == 0:  # Print every 100 batches\n",
    "            avg_loss = running_loss / 100\n",
    "            print(f\"Epoch [{epoch + 1}/{num_epochs}], Step [{i + 1}/{len(train_loader)}], Loss: {avg_loss:.4f}\")\n",
    "            running_loss = 0.0\n",
    "\n",
    "            # Log loss to TensorBoard\n",
    "            writer.add_scalar('Loss/train', avg_loss, epoch)\n",
    "\n",
    "    # Save checkpoint every 10 epochs\n",
    "    if (epoch + 1) % 10 == 0:\n",
    "        checkpoint = {\n",
    "            'epoch': epoch + 1,\n",
    "            'model_state_dict': model.state_dict(),\n",
    "            'optimizer_state_dict': optimizer.state_dict(),\n",
    "            'loss': running_loss,\n",
    "        }\n",
    "        torch.save(checkpoint, f\"{checkpoint_path}/checkpoint_epoch_{epoch + 1}.pth\")\n",
    "        print(f\"Checkpoint saved at epoch {epoch + 1}\")\n"
   ]
  },
  {
   "cell_type": "code",
   "execution_count": 10,
   "metadata": {},
   "outputs": [
    {
     "name": "stdout",
     "output_type": "stream",
     "text": [
      "Final model saved at models/4_Group17_DLProject.pth\n"
     ]
    }
   ],
   "source": [
    "# Save the final model after training\n",
    "final_model_path = os.path.join(model_save_path, '4_Group17_DLProject.pth')\n",
    "torch.save(model.state_dict(), final_model_path)\n",
    "print(f\"Final model saved at {final_model_path}\")\n",
    "# Close the writer after training\n",
    "writer.close()"
   ]
  },
  {
   "cell_type": "markdown",
   "metadata": {
    "id": "QOW2mfQeFAmG"
   },
   "source": [
    "## 6. Evaluate the Model"
   ]
  },
  {
   "cell_type": "markdown",
   "metadata": {
    "id": "NdwmZ5BwFAmG"
   },
   "source": [
    "In this cell, we evaluate the trained model using the validation dataset:\n",
    "- The model is set to evaluation mode, and gradient computation is disabled.\n",
    "- For each batch, we perform a forward pass and predict the class labels.\n",
    "- Ground truth labels and predictions are stored and used to generate a classification report using `sklearn`. This report provides precision, recall, and F1-scores for each emotion class."
   ]
  },
  {
   "cell_type": "code",
   "execution_count": 8,
   "metadata": {
    "ExecuteTime": {
     "end_time": "2024-12-05T19:33:52.598661Z",
     "start_time": "2024-12-05T19:33:10.840394Z"
    },
    "colab": {
     "base_uri": "https://localhost:8080/"
    },
    "id": "dboWdi-7O1IS",
    "outputId": "c56d2693-8976-4e4e-b94f-536ecb99e055"
   },
   "outputs": [
    {
     "name": "stdout",
     "output_type": "stream",
     "text": [
      "              precision    recall  f1-score   support\n",
      "\n",
      "       Angry       0.51      0.45      0.48       799\n",
      "     Disgust       0.64      0.52      0.57        87\n",
      "        Fear       0.46      0.40      0.43       820\n",
      "       Happy       0.79      0.80      0.80      1443\n",
      "         Sad       0.47      0.46      0.47       966\n",
      "    Surprise       0.71      0.74      0.72       634\n",
      "     Neutral       0.51      0.61      0.55       993\n",
      "\n",
      "    accuracy                           0.59      5742\n",
      "   macro avg       0.58      0.57      0.57      5742\n",
      "weighted avg       0.59      0.59      0.59      5742\n",
      "\n"
     ]
    },
    {
     "data": {
      "image/png": "[encoded data removed]",
      "text/plain": [
       "<Figure size 1000x800 with 2 Axes>"
      ]
     },
     "metadata": {},
     "output_type": "display_data"
    }
   ],
   "source": [
    "import matplotlib.pyplot as plt\n",
    "import seaborn as sns\n",
    "from sklearn.metrics import confusion_matrix\n",
    "\n",
    "model = CNN()\n",
    "model = model.to(device)\n",
    "model_path = 'models/4_Group17_DLProject.pth'\n",
    "model.load_state_dict(torch.load(model_path, weights_only=True))\n",
    "model.eval()\n",
    "\n",
    "# Initialize lists to store ground truth and predictions\n",
    "y_true, y_pred = [], []\n",
    "\n",
    "# Disable gradient computation\n",
    "with torch.no_grad():\n",
    "    for inputs, labels in val_loader:\n",
    "        # Move inputs and labels to the same device as the model\n",
    "        inputs, labels = inputs.to(device), labels.to(device)\n",
    "\n",
    "        # Forward pass\n",
    "        outputs = model(inputs)\n",
    "\n",
    "        # Get the predicted class\n",
    "        _, predicted = torch.max(outputs, 1)\n",
    "\n",
    "        # Append ground truth and predictions to respective lists\n",
    "        y_true.extend(labels.cpu().numpy())  # Convert tensors to numpy\n",
    "        y_pred.extend(predicted.cpu().numpy())\n",
    "\n",
    "# Generate the classification report\n",
    "emotion_labels = {0:'Angry', 1:'Disgust', 2:'Fear', 3:'Happy', 4: 'Sad', 5: 'Surprise', 6: 'Neutral'}\n",
    "emotion_names=list(emotion_labels.values())\n",
    "print(classification_report(y_true, y_pred, target_names=emotion_names))\n",
    "\n",
    "# Compute the confusion matrix\n",
    "conf_matrix = confusion_matrix(y_true, y_pred)\n",
    "\n",
    "# Create a heatmap visualization\n",
    "plt.figure(figsize=(10, 8))\n",
    "sns.heatmap(conf_matrix, annot=True, fmt='d', cmap='Blues', xticklabels=emotion_names, yticklabels=emotion_names)\n",
    "plt.title(\"Confusion Matrix Heatmap\")\n",
    "plt.xlabel(\"Predicted Emotions\")\n",
    "plt.ylabel(\"True Emotions\")\n",
    "plt.show()\n",
    "\n"
   ]
  },
  {
   "cell_type": "markdown",
   "metadata": {
    "id": "TfkOgduNFAmH"
   },
   "source": [
    "The results of this experiment show that adding seven convolutional layers to the model does not improve accuracy compared to the five- and six-layer configurations explored earlier. The model's improvement at correctly predicting \"neutral\" images appears is balanced by slight decreases in performance on \"surprise\", \"fear\", and \"sad\". With an accuracy of 0.59, the performance remains comparable to the previous models. This suggests that the additional layers may not be necessary for this specific task.\n",
    "\n"
   ]
  }
 ],
 "metadata": {
  "accelerator": "GPU",
  "colab": {
   "gpuType": "T4",
   "provenance": [],
   "toc_visible": true
  },
  "kernelspec": {
   "display_name": "Python 3 (ipykernel)",
   "language": "python",
   "name": "python3"
  },
  "language_info": {
   "codemirror_mode": {
    "name": "ipython",
    "version": 3
   },
   "file_extension": ".py",
   "mimetype": "text/x-python",
   "name": "python",
   "nbconvert_exporter": "python",
   "pygments_lexer": "ipython3",
   "version": "3.12.4"
  }
 },
 "nbformat": 4,
 "nbformat_minor": 4
}
