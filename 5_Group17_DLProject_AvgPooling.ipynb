{
  "cells": [
    {
      "cell_type": "markdown",
      "metadata": {
        "id": "_MWKYRenO1H7"
      },
      "source": [
        "## 0. Notebook description"
      ]
    },
    {
      "cell_type": "markdown",
      "metadata": {
        "id": "ORSATUKMP25G"
      },
      "source": [
        "Based on the findings of the previous notebooks, this notebook uses 6 convolutional layers. It also uses **average pooling** in all layers except the first. No changes were made to any other parameters."
      ]
    },
    {
      "cell_type": "markdown",
      "metadata": {
        "id": "8mG3VDNrP25G"
      },
      "source": [
        "## 1. Importing libraries and loading the data"
      ]
    },
    {
      "cell_type": "code",
      "execution_count": 1,
      "metadata": {
        "id": "W1OQbHQpRRmk"
      },
      "outputs": [],
      "source": [
        "import sys\n",
        "sys.path.append(\"/content/utils\")\n"
      ]
    },
    {
      "cell_type": "code",
      "execution_count": 2,
      "metadata": {
        "ExecuteTime": {
          "end_time": "2024-12-05T16:07:15.043785Z",
          "start_time": "2024-12-05T16:07:08.550838Z"
        },
        "id": "ZH4EnPodO1H8"
      },
      "outputs": [],
      "source": [
        "# Import Libraries\n",
        "import os\n",
        "import torch\n",
        "import torch.nn as nn\n",
        "import torch.optim as optim\n",
        "import torch.nn.functional as F\n",
        "from torchvision import transforms\n",
        "from torch.utils.tensorboard import SummaryWriter\n",
        "from sklearn.metrics import classification_report\n",
        "from utils.preprocessing import oversample_data, load_data, ReshapeAndScale, create_dataloaders\n",
        "from utils.fer2013_dataset import Fer2013Dataset"
      ]
    },
    {
      "cell_type": "markdown",
      "metadata": {
        "id": "mmi4DkFbO1H9"
      },
      "source": [
        "First, we load the data into a pandas dataframe."
      ]
    },
    {
      "cell_type": "code",
      "execution_count": 3,
      "metadata": {
        "ExecuteTime": {
          "end_time": "2024-12-05T16:07:17.127186Z",
          "start_time": "2024-12-05T16:07:15.062323Z"
        },
        "colab": {
          "base_uri": "https://localhost:8080/"
        },
        "id": "old1wNLVO1H_",
        "outputId": "f76d2a03-6c42-4a8a-ae44-15cda4bce48f"
      },
      "outputs": [
        {
          "name": "stdout",
          "output_type": "stream",
          "text": [
            "Training Data\n",
            "                                              pixels  emotion\n",
            "0  252 253 252 252 251 243 237 209 209 212 226 19...        6\n",
            "1  94 91 77 66 56 53 51 45 47 49 40 42 43 46 42 4...        0\n",
            "2  91 82 65 66 75 89 108 119 124 134 139 139 134 ...        3\n",
            "3  139 101 115 141 191 245 240 235 243 239 234 23...        1\n",
            "4  238 237 238 239 238 238 237 248 183 189 136 53...        1\n",
            "5  140 127 126 152 149 142 143 129 101 107 146 14...        5\n",
            "6  181 246 193 129 133 221 220 213 139 84 67 30 2...        6\n",
            "7  7 8 8 8 16 28 38 41 40 38 37 37 37 39 40 42 43...        2\n",
            "8  196 198 177 156 103 44 37 37 57 80 89 85 82 81...        0\n",
            "9  0 0 0 0 0 0 0 0 2 0 7 46 54 61 56 25 23 29 30 ...        4\n",
            "\n",
            "\n",
            "Validation Data\n",
            "   emotion                                             pixels\n",
            "0        3  254 253 253 254 254 254 252 252 253 252 253 25...\n",
            "1        4  92 70 64 65 62 64 91 139 167 181 186 187 191 1...\n",
            "2        5  20 19 16 23 24 25 34 24 25 60 113 123 139 149 ...\n",
            "3        4  79 82 83 84 85 89 92 90 93 95 94 97 95 97 93 8...\n",
            "4        2  117 105 95 73 72 65 49 66 92 105 126 154 177 1...\n",
            "5        3  138 138 138 118 129 146 138 120 89 57 50 47 54...\n",
            "6        5  141 132 104 64 37 27 24 23 19 18 19 20 23 22 2...\n",
            "7        3  17 23 19 14 31 27 28 41 52 69 88 96 106 108 10...\n",
            "8        6  117 110 91 49 44 46 47 41 26 39 57 71 83 91 10...\n",
            "9        3  89 141 163 153 136 128 127 125 121 116 30 23 2...\n"
          ]
        }
      ],
      "source": [
        "train_df = load_data(\"data/oversampled_train.csv\")\n",
        "val_df = load_data(\"data/validation.csv\")\n",
        "\n",
        "print(\"Training Data\")\n",
        "print(train_df.head(10))\n",
        "\n",
        "print(\"\\n\\nValidation Data\")\n",
        "print(val_df.head(10))"
      ]
    },
    {
      "cell_type": "code",
      "execution_count": 4,
      "metadata": {
        "ExecuteTime": {
          "end_time": "2024-12-05T16:07:17.397147Z",
          "start_time": "2024-12-05T16:07:17.387174Z"
        },
        "colab": {
          "base_uri": "https://localhost:8080/"
        },
        "id": "7JiE5yJDO1IA",
        "outputId": "7f565494-de84-433e-b7aa-abc0117f08a9"
      },
      "outputs": [
        {
          "name": "stdout",
          "output_type": "stream",
          "text": [
            "Training data shape: (40404, 2)\n",
            "Validation data shape (5742, 2)\n"
          ]
        }
      ],
      "source": [
        "print(\"Training data shape:\", train_df.shape)\n",
        "print(\"Validation data shape\", val_df.shape)"
      ]
    },
    {
      "cell_type": "markdown",
      "metadata": {
        "id": "SHpwVsoYO1IH"
      },
      "source": [
        "## 2. Define a custom dataset\n",
        "We define a custom PyTorch dataset class, `Fer2013Dataset`, for handling the FER2013 data. The dataset is designed to load images (stored as pixel strings) and their corresponding emotion labels. It also supports optional transformations to preprocess the images during training. This setup makes it easy to integrate the dataset with PyTorch DataLoaders.\n",
        "\n",
        "The class is contained in the `utils/fer2013_dataset` file"
      ]
    },
    {
      "cell_type": "markdown",
      "metadata": {
        "id": "CK4RMqvtP25J"
      },
      "source": [
        "We also apply the following preprocessing steps to convert the data into the desired format we can further work with:\n",
        "1. **Reshaping**:\n",
        "   - Convert the pixel string into a `48x48` matrix for visualization and processing.\n",
        "2. **Scaling**:\n",
        "   - Scale pixel values to the range `[0, 1]` by dividing the pixel values by 255.\n",
        "3. **Normalization**:\n",
        "   - Normalize pixel values to the range `[-1, 1]` by subtracting the mean and diving them by the standard deviation.\n",
        "\n",
        "\n",
        "These preprocessing steps are contained in the class `ReshapeAndScale`, which is available under path `utils/preprocessing.py`."
      ]
    },
    {
      "cell_type": "code",
      "execution_count": 5,
      "metadata": {
        "id": "lAoqtp1SP25J"
      },
      "outputs": [],
      "source": [
        "# Define a default transformation pipeline\n",
        "transform = transforms.Compose([\n",
        "    ReshapeAndScale(n_rows=48, n_cols=48),\n",
        "    transforms.Normalize(mean=[0.5], std=[0.5])  # Normalize to [-1, 1]\n",
        "])"
      ]
    },
    {
      "cell_type": "code",
      "execution_count": 6,
      "metadata": {
        "ExecuteTime": {
          "end_time": "2024-12-05T16:07:19.877304Z",
          "start_time": "2024-12-05T16:07:19.870241Z"
        },
        "id": "8cuhkZCOO1II"
      },
      "outputs": [],
      "source": [
        "train_dataset = Fer2013Dataset(train_df, train_df['emotion'], transform=transform)\n",
        "val_dataset = Fer2013Dataset(val_df, val_df['emotion'], transform=transform)"
      ]
    },
    {
      "cell_type": "markdown",
      "metadata": {
        "id": "y3YdSoVSP25K"
      },
      "source": [
        "### Create DataLoaders\n",
        "\n",
        "We create DataLoaders for both subsets to enable batch processing. The training DataLoader shuffles the data for better learning, while the validation DataLoader does not. Finally, we print the shapes of the batches to verify that everything works correctly.\n"
      ]
    },
    {
      "cell_type": "code",
      "execution_count": 7,
      "metadata": {
        "ExecuteTime": {
          "end_time": "2024-12-05T16:07:58.887965Z",
          "start_time": "2024-12-05T16:07:19.894776Z"
        },
        "collapsed": true,
        "id": "rAQ30-FQO1IJ"
      },
      "outputs": [],
      "source": [
        "batch_size = 32\n",
        "train_loader, val_loader = create_dataloaders(train_dataset, val_dataset, batch_size)"
      ]
    },
    {
      "cell_type": "markdown",
      "metadata": {
        "id": "pge_vvuYO1IN"
      },
      "source": [
        "## 3. Define the CNN model"
      ]
    },
    {
      "cell_type": "markdown",
      "metadata": {
        "id": "J7DNRVXwP25K"
      },
      "source": [
        "We define a custom Convolutional Neural Network (CNN) for emotion recognition. The model includes multiple convolutional layers with batch normalization, dropout for regularization, max pooling for downsampling, and fully connected layers for classification.\n",
        "\n",
        "The network dynamically calculates the flattened size needed for the fully connected layers based on the input size (48x48 grayscale images). Finally, we instantiate the model, move it to the available device (CPU or GPU), and print its architecture for verification.\n"
      ]
    },
    {
      "cell_type": "code",
      "execution_count": 8,
      "metadata": {
        "ExecuteTime": {
          "end_time": "2024-12-05T16:07:59.032722Z",
          "start_time": "2024-12-05T16:07:58.948090Z"
        },
        "colab": {
          "base_uri": "https://localhost:8080/"
        },
        "id": "xvFxqkzxO1IO",
        "outputId": "7591fb7e-f850-4305-bee2-23130594d735"
      },
      "outputs": [
        {
          "name": "stdout",
          "output_type": "stream",
          "text": [
            "CNN(\n",
            "  (conv1): Conv2d(1, 32, kernel_size=(3, 3), stride=(1, 1), padding=valid)\n",
            "  (bn1): BatchNorm2d(32, eps=1e-05, momentum=0.1, affine=True, track_running_stats=True)\n",
            "  (dropout1): Dropout(p=0.25, inplace=False)\n",
            "  (conv2): Conv2d(32, 64, kernel_size=(3, 3), stride=(1, 1), padding=same)\n",
            "  (bn2): BatchNorm2d(64, eps=1e-05, momentum=0.1, affine=True, track_running_stats=True)\n",
            "  (pool2): AvgPool2d(kernel_size=2, stride=2, padding=0)\n",
            "  (conv3): Conv2d(64, 64, kernel_size=(3, 3), stride=(1, 1), padding=valid)\n",
            "  (bn3): BatchNorm2d(64, eps=1e-05, momentum=0.1, affine=True, track_running_stats=True)\n",
            "  (pool6): AvgPool2d(kernel_size=2, stride=2, padding=0)\n",
            "  (dropout3): Dropout(p=0.25, inplace=False)\n",
            "  (conv4): Conv2d(64, 128, kernel_size=(3, 3), stride=(1, 1), padding=same)\n",
            "  (bn4): BatchNorm2d(128, eps=1e-05, momentum=0.1, affine=True, track_running_stats=True)\n",
            "  (pool4): AvgPool2d(kernel_size=2, stride=2, padding=0)\n",
            "  (conv5): Conv2d(128, 128, kernel_size=(3, 3), stride=(1, 1), padding=valid)\n",
            "  (bn5): BatchNorm2d(128, eps=1e-05, momentum=0.1, affine=True, track_running_stats=True)\n",
            "  (pool5): AvgPool2d(kernel_size=2, stride=2, padding=0)\n",
            "  (fc1): Linear(in_features=2048, out_features=250, bias=True)\n",
            "  (dropout_fc): Dropout(p=0.5, inplace=False)\n",
            "  (fc2): Linear(in_features=250, out_features=7, bias=True)\n",
            ")\n"
          ]
        }
      ],
      "source": [
        "class CNN(nn.Module):\n",
        "    def __init__(self):\n",
        "        super(CNN, self).__init__()\n",
        "\n",
        "        # 1st Conv Layer\n",
        "        self.conv1 = nn.Conv2d(in_channels=1, out_channels=32, kernel_size=3, stride=1, padding='valid')\n",
        "        self.bn1 = nn.BatchNorm2d(32)\n",
        "        self.dropout1 = nn.Dropout(0.25)\n",
        "\n",
        "        # 2nd Conv Layer\n",
        "        self.conv2 = nn.Conv2d(in_channels=32, out_channels=64, kernel_size=3, stride=1, padding='same')\n",
        "        self.bn2 = nn.BatchNorm2d(64)\n",
        "        self.pool2 = nn.AvgPool2d(kernel_size=2, stride=2)\n",
        "\n",
        "        # 3rd Conv Layer\n",
        "        self.conv3 = nn.Conv2d(in_channels=64, out_channels=64, kernel_size=3, stride=1, padding='valid')\n",
        "        self.bn3 = nn.BatchNorm2d(64)\n",
        "        self.pool6 = nn.AvgPool2d(kernel_size=2, stride=2)\n",
        "        self.dropout3 = nn.Dropout(0.25)\n",
        "\n",
        "        # 4th Conv Layer\n",
        "        self.conv4 = nn.Conv2d(in_channels=64, out_channels=128, kernel_size=3, stride=1, padding='same')\n",
        "        self.bn4 = nn.BatchNorm2d(128)\n",
        "        self.pool4 = nn.AvgPool2d(kernel_size=2, stride=2)\n",
        "\n",
        "        # 5th Conv Layer\n",
        "        self.conv5 = nn.Conv2d(in_channels=128, out_channels=128, kernel_size=3, stride=1, padding='valid')\n",
        "        self.bn5 = nn.BatchNorm2d(128)\n",
        "        self.pool5 = nn.AvgPool2d(kernel_size=2, stride=2)\n",
        "\n",
        "\n",
        "\n",
        "        # Calculate the flatten size dynamically\n",
        "        self.flatten_size = self._get_flatten_size()\n",
        "\n",
        "        # Fully Connected Layers\n",
        "        self.fc1 = nn.Linear(self.flatten_size, 250)\n",
        "        self.dropout_fc = nn.Dropout(0.5)\n",
        "        self.fc2 = nn.Linear(250, 7)  # 7 classes for emotion recognition\n",
        "\n",
        "    def _get_flatten_size(self):\n",
        "        # Create a dummy tensor with the same size as input image\n",
        "        dummy_input = torch.zeros(1, 1, 48, 48)  # batch_size, channels, height, width\n",
        "        dummy_output = self._forward_conv_layers(dummy_input)\n",
        "        return dummy_output.numel()\n",
        "\n",
        "    def _forward_conv_layers(self, x):\n",
        "        # Pass through convolutional layers\n",
        "        x = self.conv1(x)\n",
        "        x = self.bn1(x)\n",
        "        x = F.relu(x)\n",
        "        x = self.dropout1(x)\n",
        "\n",
        "        x = self.conv2(x)\n",
        "        x = self.bn2(x)\n",
        "        x = F.relu(x)\n",
        "        x = self.pool2(x)\n",
        "\n",
        "        x = self.conv3(x)\n",
        "        x = self.bn3(x)\n",
        "        x = F.relu(x)\n",
        "        x = self.dropout3(x)\n",
        "\n",
        "        x = self.conv4(x)\n",
        "        x = self.bn4(x)\n",
        "        x = F.relu(x)\n",
        "        x = self.pool4(x)\n",
        "\n",
        "        x = self.conv5(x)\n",
        "        x = self.bn5(x)\n",
        "        x = F.relu(x)\n",
        "        x = self.pool5(x)\n",
        "\n",
        "        return x\n",
        "\n",
        "    def forward(self, x):\n",
        "        # Use the convolutional layers defined in _forward_conv_layers\n",
        "        x = self._forward_conv_layers(x)\n",
        "\n",
        "        # Dynamically flatten the output\n",
        "        x = x.view(x.size(0), -1)  # Flatten the tensor\n",
        "        x = F.relu(self.fc1(x))\n",
        "        x = self.dropout_fc(x)\n",
        "        x = self.fc2(x)\n",
        "\n",
        "        return x\n",
        "\n",
        "# Instantiate the model\n",
        "device = torch.device(\"cuda\" if torch.cuda.is_available() else \"cpu\")\n",
        "model = CNN()\n",
        "model = model.to(device)\n",
        "\n",
        "# Print model to verify layers\n",
        "print(model)"
      ]
    },
    {
      "cell_type": "markdown",
      "metadata": {
        "id": "FUGPWQuIP25L"
      },
      "source": [
        "## 4. Define Loss Function and Optimizer"
      ]
    },
    {
      "cell_type": "markdown",
      "metadata": {
        "id": "GGRwOBW6P25L"
      },
      "source": [
        "In this cell, we define the loss function and optimizer for training the model:\n",
        "- **Loss Function**: `CrossEntropyLoss` is used, which is well-suited for multi-class classification tasks like emotion recognition.\n",
        "- **Optimizer**: The Adam optimizer is initialized with a learning rate of `0.0001` to update the model parameters during training."
      ]
    },
    {
      "cell_type": "code",
      "execution_count": 9,
      "metadata": {
        "ExecuteTime": {
          "end_time": "2024-12-05T16:07:59.063835Z",
          "start_time": "2024-12-05T16:07:59.059962Z"
        },
        "id": "WFyRGyfXO1IR"
      },
      "outputs": [],
      "source": [
        "criterion = nn.CrossEntropyLoss()  # Loss function for classification\n",
        "optimizer = optim.Adam(model.parameters(), lr=0.0001)  # call optimizer"
      ]
    },
    {
      "cell_type": "markdown",
      "metadata": {
        "id": "FMHZrQsZO1IR"
      },
      "source": [
        "## 5. Train the Model"
      ]
    },
    {
      "cell_type": "markdown",
      "metadata": {
        "id": "Q3uRiwNTP25L"
      },
      "source": [
        "In this cell, we define the training loop for the CNN:\n",
        "- **Number of Epochs**: The model is trained for 35 epochs.\n",
        "- **Training Process**:\n",
        "  - The model is set to training mode.\n",
        "  - For each batch, we move inputs and labels to the appropriate device, clear the gradients, perform forward and backward passes, and update the model's parameters using the optimizer.\n",
        "  - The running loss is tracked and printed every 100 batches for monitoring."
      ]
    },
    {
      "cell_type": "code",
      "execution_count": 10,
      "metadata": {
        "ExecuteTime": {
          "end_time": "2024-12-05T19:33:10.523679Z",
          "start_time": "2024-12-05T16:07:59.073844Z"
        },
        "colab": {
          "base_uri": "https://localhost:8080/"
        },
        "id": "iX3PbDPqO1IR",
        "outputId": "d6989ece-84d6-4561-82dd-e01bbe7816d5"
      },
      "outputs": [
        {
          "name": "stdout",
          "output_type": "stream",
          "text": [
            "Epoch [1/35], Step [100/1263], Loss: 1.9113\n",
            "Epoch [1/35], Step [200/1263], Loss: 1.8492\n",
            "Epoch [1/35], Step [300/1263], Loss: 1.7546\n",
            "Epoch [1/35], Step [400/1263], Loss: 1.6876\n",
            "Epoch [1/35], Step [500/1263], Loss: 1.6286\n",
            "Epoch [1/35], Step [600/1263], Loss: 1.5851\n",
            "Epoch [1/35], Step [700/1263], Loss: 1.5173\n",
            "Epoch [1/35], Step [800/1263], Loss: 1.4956\n",
            "Epoch [1/35], Step [900/1263], Loss: 1.4589\n",
            "Epoch [1/35], Step [1000/1263], Loss: 1.4010\n",
            "Epoch [1/35], Step [1100/1263], Loss: 1.4178\n",
            "Epoch [1/35], Step [1200/1263], Loss: 1.3735\n",
            "Epoch [2/35], Step [100/1263], Loss: 1.3473\n",
            "Epoch [2/35], Step [200/1263], Loss: 1.3130\n",
            "Epoch [2/35], Step [300/1263], Loss: 1.3334\n",
            "Epoch [2/35], Step [400/1263], Loss: 1.2608\n",
            "Epoch [2/35], Step [500/1263], Loss: 1.2663\n",
            "Epoch [2/35], Step [600/1263], Loss: 1.2578\n",
            "Epoch [2/35], Step [700/1263], Loss: 1.2350\n",
            "Epoch [2/35], Step [800/1263], Loss: 1.2448\n",
            "Epoch [2/35], Step [900/1263], Loss: 1.2082\n",
            "Epoch [2/35], Step [1000/1263], Loss: 1.2432\n",
            "Epoch [2/35], Step [1100/1263], Loss: 1.1828\n",
            "Epoch [2/35], Step [1200/1263], Loss: 1.1661\n",
            "Epoch [3/35], Step [100/1263], Loss: 1.1253\n",
            "Epoch [3/35], Step [200/1263], Loss: 1.1585\n",
            "Epoch [3/35], Step [300/1263], Loss: 1.1140\n",
            "Epoch [3/35], Step [400/1263], Loss: 1.1087\n",
            "Epoch [3/35], Step [500/1263], Loss: 1.1459\n",
            "Epoch [3/35], Step [600/1263], Loss: 1.0931\n",
            "Epoch [3/35], Step [700/1263], Loss: 1.1104\n",
            "Epoch [3/35], Step [800/1263], Loss: 1.1078\n",
            "Epoch [3/35], Step [900/1263], Loss: 1.0851\n",
            "Epoch [3/35], Step [1000/1263], Loss: 1.0725\n",
            "Epoch [3/35], Step [1100/1263], Loss: 1.0694\n",
            "Epoch [3/35], Step [1200/1263], Loss: 1.0633\n",
            "Epoch [4/35], Step [100/1263], Loss: 0.9864\n",
            "Epoch [4/35], Step [200/1263], Loss: 1.0356\n",
            "Epoch [4/35], Step [300/1263], Loss: 1.0265\n",
            "Epoch [4/35], Step [400/1263], Loss: 1.0303\n",
            "Epoch [4/35], Step [500/1263], Loss: 1.0172\n",
            "Epoch [4/35], Step [600/1263], Loss: 0.9953\n",
            "Epoch [4/35], Step [700/1263], Loss: 1.0072\n",
            "Epoch [4/35], Step [800/1263], Loss: 0.9509\n",
            "Epoch [4/35], Step [900/1263], Loss: 0.9891\n",
            "Epoch [4/35], Step [1000/1263], Loss: 0.9926\n",
            "Epoch [4/35], Step [1100/1263], Loss: 0.9959\n",
            "Epoch [4/35], Step [1200/1263], Loss: 1.0013\n",
            "Epoch [5/35], Step [100/1263], Loss: 0.9163\n",
            "Epoch [5/35], Step [200/1263], Loss: 0.9514\n",
            "Epoch [5/35], Step [300/1263], Loss: 0.9595\n",
            "Epoch [5/35], Step [400/1263], Loss: 0.9407\n",
            "Epoch [5/35], Step [500/1263], Loss: 0.9458\n",
            "Epoch [5/35], Step [600/1263], Loss: 0.9228\n",
            "Epoch [5/35], Step [700/1263], Loss: 0.9319\n",
            "Epoch [5/35], Step [800/1263], Loss: 0.9319\n",
            "Epoch [5/35], Step [900/1263], Loss: 0.9375\n",
            "Epoch [5/35], Step [1000/1263], Loss: 0.8865\n",
            "Epoch [5/35], Step [1100/1263], Loss: 0.9362\n",
            "Epoch [5/35], Step [1200/1263], Loss: 0.9058\n",
            "Epoch [6/35], Step [100/1263], Loss: 0.8568\n",
            "Epoch [6/35], Step [200/1263], Loss: 0.8893\n",
            "Epoch [6/35], Step [300/1263], Loss: 0.8910\n",
            "Epoch [6/35], Step [400/1263], Loss: 0.8747\n",
            "Epoch [6/35], Step [500/1263], Loss: 0.8503\n",
            "Epoch [6/35], Step [600/1263], Loss: 0.8960\n",
            "Epoch [6/35], Step [700/1263], Loss: 0.9059\n",
            "Epoch [6/35], Step [800/1263], Loss: 0.8708\n",
            "Epoch [6/35], Step [900/1263], Loss: 0.8612\n",
            "Epoch [6/35], Step [1000/1263], Loss: 0.8636\n",
            "Epoch [6/35], Step [1100/1263], Loss: 0.8783\n",
            "Epoch [6/35], Step [1200/1263], Loss: 0.8450\n",
            "Epoch [7/35], Step [100/1263], Loss: 0.8147\n",
            "Epoch [7/35], Step [200/1263], Loss: 0.8211\n",
            "Epoch [7/35], Step [300/1263], Loss: 0.8374\n",
            "Epoch [7/35], Step [400/1263], Loss: 0.8258\n",
            "Epoch [7/35], Step [500/1263], Loss: 0.8253\n",
            "Epoch [7/35], Step [600/1263], Loss: 0.8040\n",
            "Epoch [7/35], Step [700/1263], Loss: 0.8322\n",
            "Epoch [7/35], Step [800/1263], Loss: 0.8356\n",
            "Epoch [7/35], Step [900/1263], Loss: 0.8159\n",
            "Epoch [7/35], Step [1000/1263], Loss: 0.8323\n",
            "Epoch [7/35], Step [1100/1263], Loss: 0.8104\n",
            "Epoch [7/35], Step [1200/1263], Loss: 0.7737\n",
            "Epoch [8/35], Step [100/1263], Loss: 0.7789\n",
            "Epoch [8/35], Step [200/1263], Loss: 0.7931\n",
            "Epoch [8/35], Step [300/1263], Loss: 0.7587\n",
            "Epoch [8/35], Step [400/1263], Loss: 0.7671\n",
            "Epoch [8/35], Step [500/1263], Loss: 0.7894\n",
            "Epoch [8/35], Step [600/1263], Loss: 0.7704\n",
            "Epoch [8/35], Step [700/1263], Loss: 0.7772\n",
            "Epoch [8/35], Step [800/1263], Loss: 0.7585\n",
            "Epoch [8/35], Step [900/1263], Loss: 0.7825\n",
            "Epoch [8/35], Step [1000/1263], Loss: 0.7674\n",
            "Epoch [8/35], Step [1100/1263], Loss: 0.7702\n",
            "Epoch [8/35], Step [1200/1263], Loss: 0.7571\n",
            "Epoch [9/35], Step [100/1263], Loss: 0.7190\n",
            "Epoch [9/35], Step [200/1263], Loss: 0.7302\n",
            "Epoch [9/35], Step [300/1263], Loss: 0.7453\n",
            "Epoch [9/35], Step [400/1263], Loss: 0.7312\n",
            "Epoch [9/35], Step [500/1263], Loss: 0.7583\n",
            "Epoch [9/35], Step [600/1263], Loss: 0.7294\n",
            "Epoch [9/35], Step [700/1263], Loss: 0.7421\n",
            "Epoch [9/35], Step [800/1263], Loss: 0.7217\n",
            "Epoch [9/35], Step [900/1263], Loss: 0.7398\n",
            "Epoch [9/35], Step [1000/1263], Loss: 0.7285\n",
            "Epoch [9/35], Step [1100/1263], Loss: 0.7082\n",
            "Epoch [9/35], Step [1200/1263], Loss: 0.7113\n",
            "Epoch [10/35], Step [100/1263], Loss: 0.6796\n",
            "Epoch [10/35], Step [200/1263], Loss: 0.6945\n",
            "Epoch [10/35], Step [300/1263], Loss: 0.6924\n",
            "Epoch [10/35], Step [400/1263], Loss: 0.6682\n",
            "Epoch [10/35], Step [500/1263], Loss: 0.6578\n",
            "Epoch [10/35], Step [600/1263], Loss: 0.6843\n",
            "Epoch [10/35], Step [700/1263], Loss: 0.6887\n",
            "Epoch [10/35], Step [800/1263], Loss: 0.7020\n",
            "Epoch [10/35], Step [900/1263], Loss: 0.6932\n",
            "Epoch [10/35], Step [1000/1263], Loss: 0.7022\n",
            "Epoch [10/35], Step [1100/1263], Loss: 0.7060\n",
            "Epoch [10/35], Step [1200/1263], Loss: 0.6750\n",
            "Checkpoint saved at epoch 10\n",
            "Epoch [11/35], Step [100/1263], Loss: 0.6496\n",
            "Epoch [11/35], Step [200/1263], Loss: 0.6517\n",
            "Epoch [11/35], Step [300/1263], Loss: 0.6642\n",
            "Epoch [11/35], Step [400/1263], Loss: 0.6462\n",
            "Epoch [11/35], Step [500/1263], Loss: 0.6720\n",
            "Epoch [11/35], Step [600/1263], Loss: 0.6863\n",
            "Epoch [11/35], Step [700/1263], Loss: 0.6421\n",
            "Epoch [11/35], Step [800/1263], Loss: 0.6971\n",
            "Epoch [11/35], Step [900/1263], Loss: 0.6268\n",
            "Epoch [11/35], Step [1000/1263], Loss: 0.6438\n",
            "Epoch [11/35], Step [1100/1263], Loss: 0.6572\n",
            "Epoch [11/35], Step [1200/1263], Loss: 0.6431\n",
            "Epoch [12/35], Step [100/1263], Loss: 0.5906\n",
            "Epoch [12/35], Step [200/1263], Loss: 0.6132\n",
            "Epoch [12/35], Step [300/1263], Loss: 0.6251\n",
            "Epoch [12/35], Step [400/1263], Loss: 0.6110\n",
            "Epoch [12/35], Step [500/1263], Loss: 0.6191\n",
            "Epoch [12/35], Step [600/1263], Loss: 0.5914\n",
            "Epoch [12/35], Step [700/1263], Loss: 0.6218\n",
            "Epoch [12/35], Step [800/1263], Loss: 0.6271\n",
            "Epoch [12/35], Step [900/1263], Loss: 0.5975\n",
            "Epoch [12/35], Step [1000/1263], Loss: 0.5948\n",
            "Epoch [12/35], Step [1100/1263], Loss: 0.6306\n",
            "Epoch [12/35], Step [1200/1263], Loss: 0.6150\n",
            "Epoch [13/35], Step [100/1263], Loss: 0.5613\n",
            "Epoch [13/35], Step [200/1263], Loss: 0.5837\n",
            "Epoch [13/35], Step [300/1263], Loss: 0.5902\n",
            "Epoch [13/35], Step [400/1263], Loss: 0.5791\n",
            "Epoch [13/35], Step [500/1263], Loss: 0.5697\n",
            "Epoch [13/35], Step [600/1263], Loss: 0.5867\n",
            "Epoch [13/35], Step [700/1263], Loss: 0.5893\n",
            "Epoch [13/35], Step [800/1263], Loss: 0.5654\n",
            "Epoch [13/35], Step [900/1263], Loss: 0.5679\n",
            "Epoch [13/35], Step [1000/1263], Loss: 0.5872\n",
            "Epoch [13/35], Step [1100/1263], Loss: 0.5774\n",
            "Epoch [13/35], Step [1200/1263], Loss: 0.5749\n",
            "Epoch [14/35], Step [100/1263], Loss: 0.5482\n",
            "Epoch [14/35], Step [200/1263], Loss: 0.5231\n",
            "Epoch [14/35], Step [300/1263], Loss: 0.5308\n",
            "Epoch [14/35], Step [400/1263], Loss: 0.5444\n",
            "Epoch [14/35], Step [500/1263], Loss: 0.5349\n",
            "Epoch [14/35], Step [600/1263], Loss: 0.5639\n",
            "Epoch [14/35], Step [700/1263], Loss: 0.5278\n",
            "Epoch [14/35], Step [800/1263], Loss: 0.5404\n",
            "Epoch [14/35], Step [900/1263], Loss: 0.5397\n",
            "Epoch [14/35], Step [1000/1263], Loss: 0.5670\n",
            "Epoch [14/35], Step [1100/1263], Loss: 0.5544\n",
            "Epoch [14/35], Step [1200/1263], Loss: 0.5640\n",
            "Epoch [15/35], Step [100/1263], Loss: 0.5041\n",
            "Epoch [15/35], Step [200/1263], Loss: 0.5122\n",
            "Epoch [15/35], Step [300/1263], Loss: 0.5411\n",
            "Epoch [15/35], Step [400/1263], Loss: 0.5012\n",
            "Epoch [15/35], Step [500/1263], Loss: 0.5305\n",
            "Epoch [15/35], Step [600/1263], Loss: 0.5274\n",
            "Epoch [15/35], Step [700/1263], Loss: 0.5023\n",
            "Epoch [15/35], Step [800/1263], Loss: 0.5057\n",
            "Epoch [15/35], Step [900/1263], Loss: 0.5025\n",
            "Epoch [15/35], Step [1000/1263], Loss: 0.5017\n",
            "Epoch [15/35], Step [1100/1263], Loss: 0.5130\n",
            "Epoch [15/35], Step [1200/1263], Loss: 0.4997\n",
            "Epoch [16/35], Step [100/1263], Loss: 0.4718\n",
            "Epoch [16/35], Step [200/1263], Loss: 0.4614\n",
            "Epoch [16/35], Step [300/1263], Loss: 0.4657\n",
            "Epoch [16/35], Step [400/1263], Loss: 0.4820\n",
            "Epoch [16/35], Step [500/1263], Loss: 0.4918\n",
            "Epoch [16/35], Step [600/1263], Loss: 0.5003\n",
            "Epoch [16/35], Step [700/1263], Loss: 0.4934\n",
            "Epoch [16/35], Step [800/1263], Loss: 0.4770\n",
            "Epoch [16/35], Step [900/1263], Loss: 0.4646\n",
            "Epoch [16/35], Step [1000/1263], Loss: 0.4884\n",
            "Epoch [16/35], Step [1100/1263], Loss: 0.4944\n",
            "Epoch [16/35], Step [1200/1263], Loss: 0.5011\n",
            "Epoch [17/35], Step [100/1263], Loss: 0.4566\n",
            "Epoch [17/35], Step [200/1263], Loss: 0.4242\n",
            "Epoch [17/35], Step [300/1263], Loss: 0.4482\n",
            "Epoch [17/35], Step [400/1263], Loss: 0.4457\n",
            "Epoch [17/35], Step [500/1263], Loss: 0.4590\n",
            "Epoch [17/35], Step [600/1263], Loss: 0.4420\n",
            "Epoch [17/35], Step [700/1263], Loss: 0.4713\n",
            "Epoch [17/35], Step [800/1263], Loss: 0.4572\n",
            "Epoch [17/35], Step [900/1263], Loss: 0.4687\n",
            "Epoch [17/35], Step [1000/1263], Loss: 0.4432\n",
            "Epoch [17/35], Step [1100/1263], Loss: 0.4601\n",
            "Epoch [17/35], Step [1200/1263], Loss: 0.4437\n",
            "Epoch [18/35], Step [100/1263], Loss: 0.4154\n",
            "Epoch [18/35], Step [200/1263], Loss: 0.4417\n",
            "Epoch [18/35], Step [300/1263], Loss: 0.4231\n",
            "Epoch [18/35], Step [400/1263], Loss: 0.4346\n",
            "Epoch [18/35], Step [500/1263], Loss: 0.4251\n",
            "Epoch [18/35], Step [600/1263], Loss: 0.4255\n",
            "Epoch [18/35], Step [700/1263], Loss: 0.4279\n",
            "Epoch [18/35], Step [800/1263], Loss: 0.4060\n",
            "Epoch [18/35], Step [900/1263], Loss: 0.4261\n",
            "Epoch [18/35], Step [1000/1263], Loss: 0.4548\n",
            "Epoch [18/35], Step [1100/1263], Loss: 0.4491\n",
            "Epoch [18/35], Step [1200/1263], Loss: 0.4358\n",
            "Epoch [19/35], Step [100/1263], Loss: 0.3760\n",
            "Epoch [19/35], Step [200/1263], Loss: 0.4027\n",
            "Epoch [19/35], Step [300/1263], Loss: 0.3867\n",
            "Epoch [19/35], Step [400/1263], Loss: 0.4110\n",
            "Epoch [19/35], Step [500/1263], Loss: 0.4147\n",
            "Epoch [19/35], Step [600/1263], Loss: 0.3821\n",
            "Epoch [19/35], Step [700/1263], Loss: 0.4166\n",
            "Epoch [19/35], Step [800/1263], Loss: 0.4147\n",
            "Epoch [19/35], Step [900/1263], Loss: 0.3959\n",
            "Epoch [19/35], Step [1000/1263], Loss: 0.4186\n",
            "Epoch [19/35], Step [1100/1263], Loss: 0.4648\n",
            "Epoch [19/35], Step [1200/1263], Loss: 0.4047\n",
            "Epoch [20/35], Step [100/1263], Loss: 0.3718\n",
            "Epoch [20/35], Step [200/1263], Loss: 0.3548\n",
            "Epoch [20/35], Step [300/1263], Loss: 0.3759\n",
            "Epoch [20/35], Step [400/1263], Loss: 0.3686\n",
            "Epoch [20/35], Step [500/1263], Loss: 0.3867\n",
            "Epoch [20/35], Step [600/1263], Loss: 0.4074\n",
            "Epoch [20/35], Step [700/1263], Loss: 0.3877\n",
            "Epoch [20/35], Step [800/1263], Loss: 0.3940\n",
            "Epoch [20/35], Step [900/1263], Loss: 0.3855\n",
            "Epoch [20/35], Step [1000/1263], Loss: 0.3858\n",
            "Epoch [20/35], Step [1100/1263], Loss: 0.3983\n",
            "Epoch [20/35], Step [1200/1263], Loss: 0.3861\n",
            "Checkpoint saved at epoch 20\n",
            "Epoch [21/35], Step [100/1263], Loss: 0.3404\n",
            "Epoch [21/35], Step [200/1263], Loss: 0.3532\n",
            "Epoch [21/35], Step [300/1263], Loss: 0.3619\n",
            "Epoch [21/35], Step [400/1263], Loss: 0.3594\n",
            "Epoch [21/35], Step [500/1263], Loss: 0.3550\n",
            "Epoch [21/35], Step [600/1263], Loss: 0.3503\n",
            "Epoch [21/35], Step [700/1263], Loss: 0.3846\n",
            "Epoch [21/35], Step [800/1263], Loss: 0.3760\n",
            "Epoch [21/35], Step [900/1263], Loss: 0.3748\n",
            "Epoch [21/35], Step [1000/1263], Loss: 0.3997\n",
            "Epoch [21/35], Step [1100/1263], Loss: 0.3764\n",
            "Epoch [21/35], Step [1200/1263], Loss: 0.3726\n",
            "Epoch [22/35], Step [100/1263], Loss: 0.3223\n",
            "Epoch [22/35], Step [200/1263], Loss: 0.3375\n",
            "Epoch [22/35], Step [300/1263], Loss: 0.3337\n",
            "Epoch [22/35], Step [400/1263], Loss: 0.3322\n",
            "Epoch [22/35], Step [500/1263], Loss: 0.3511\n",
            "Epoch [22/35], Step [600/1263], Loss: 0.3704\n",
            "Epoch [22/35], Step [700/1263], Loss: 0.3367\n",
            "Epoch [22/35], Step [800/1263], Loss: 0.3416\n",
            "Epoch [22/35], Step [900/1263], Loss: 0.3334\n",
            "Epoch [22/35], Step [1000/1263], Loss: 0.3402\n",
            "Epoch [22/35], Step [1100/1263], Loss: 0.3391\n",
            "Epoch [22/35], Step [1200/1263], Loss: 0.3283\n",
            "Epoch [23/35], Step [100/1263], Loss: 0.3268\n",
            "Epoch [23/35], Step [200/1263], Loss: 0.3190\n",
            "Epoch [23/35], Step [300/1263], Loss: 0.2919\n",
            "Epoch [23/35], Step [400/1263], Loss: 0.2848\n",
            "Epoch [23/35], Step [500/1263], Loss: 0.3052\n",
            "Epoch [23/35], Step [600/1263], Loss: 0.3254\n",
            "Epoch [23/35], Step [700/1263], Loss: 0.3203\n",
            "Epoch [23/35], Step [800/1263], Loss: 0.3266\n",
            "Epoch [23/35], Step [900/1263], Loss: 0.3482\n",
            "Epoch [23/35], Step [1000/1263], Loss: 0.3275\n",
            "Epoch [23/35], Step [1100/1263], Loss: 0.3630\n",
            "Epoch [23/35], Step [1200/1263], Loss: 0.3212\n",
            "Epoch [24/35], Step [100/1263], Loss: 0.2786\n",
            "Epoch [24/35], Step [200/1263], Loss: 0.3074\n",
            "Epoch [24/35], Step [300/1263], Loss: 0.2884\n",
            "Epoch [24/35], Step [400/1263], Loss: 0.3133\n",
            "Epoch [24/35], Step [500/1263], Loss: 0.2820\n",
            "Epoch [24/35], Step [600/1263], Loss: 0.2949\n",
            "Epoch [24/35], Step [700/1263], Loss: 0.3199\n",
            "Epoch [24/35], Step [800/1263], Loss: 0.3170\n",
            "Epoch [24/35], Step [900/1263], Loss: 0.3077\n",
            "Epoch [24/35], Step [1000/1263], Loss: 0.3297\n",
            "Epoch [24/35], Step [1100/1263], Loss: 0.3205\n",
            "Epoch [24/35], Step [1200/1263], Loss: 0.3286\n",
            "Epoch [25/35], Step [100/1263], Loss: 0.2520\n",
            "Epoch [25/35], Step [200/1263], Loss: 0.3066\n",
            "Epoch [25/35], Step [300/1263], Loss: 0.3019\n",
            "Epoch [25/35], Step [400/1263], Loss: 0.2880\n",
            "Epoch [25/35], Step [500/1263], Loss: 0.2854\n",
            "Epoch [25/35], Step [600/1263], Loss: 0.2821\n",
            "Epoch [25/35], Step [700/1263], Loss: 0.3009\n",
            "Epoch [25/35], Step [800/1263], Loss: 0.3092\n",
            "Epoch [25/35], Step [900/1263], Loss: 0.2905\n",
            "Epoch [25/35], Step [1000/1263], Loss: 0.3027\n",
            "Epoch [25/35], Step [1100/1263], Loss: 0.3016\n",
            "Epoch [25/35], Step [1200/1263], Loss: 0.2976\n",
            "Epoch [26/35], Step [100/1263], Loss: 0.2570\n",
            "Epoch [26/35], Step [200/1263], Loss: 0.2673\n",
            "Epoch [26/35], Step [300/1263], Loss: 0.2786\n",
            "Epoch [26/35], Step [400/1263], Loss: 0.2731\n",
            "Epoch [26/35], Step [500/1263], Loss: 0.2546\n",
            "Epoch [26/35], Step [600/1263], Loss: 0.2830\n",
            "Epoch [26/35], Step [700/1263], Loss: 0.3078\n",
            "Epoch [26/35], Step [800/1263], Loss: 0.2818\n",
            "Epoch [26/35], Step [900/1263], Loss: 0.2857\n",
            "Epoch [26/35], Step [1000/1263], Loss: 0.2913\n",
            "Epoch [26/35], Step [1100/1263], Loss: 0.2681\n",
            "Epoch [26/35], Step [1200/1263], Loss: 0.2931\n",
            "Epoch [27/35], Step [100/1263], Loss: 0.2366\n",
            "Epoch [27/35], Step [200/1263], Loss: 0.2550\n",
            "Epoch [27/35], Step [300/1263], Loss: 0.2755\n",
            "Epoch [27/35], Step [400/1263], Loss: 0.2463\n",
            "Epoch [27/35], Step [500/1263], Loss: 0.2609\n",
            "Epoch [27/35], Step [600/1263], Loss: 0.2532\n",
            "Epoch [27/35], Step [700/1263], Loss: 0.2841\n",
            "Epoch [27/35], Step [800/1263], Loss: 0.2757\n",
            "Epoch [27/35], Step [900/1263], Loss: 0.2836\n",
            "Epoch [27/35], Step [1000/1263], Loss: 0.2617\n",
            "Epoch [27/35], Step [1100/1263], Loss: 0.2649\n",
            "Epoch [27/35], Step [1200/1263], Loss: 0.3002\n",
            "Epoch [28/35], Step [100/1263], Loss: 0.2370\n",
            "Epoch [28/35], Step [200/1263], Loss: 0.2255\n",
            "Epoch [28/35], Step [300/1263], Loss: 0.2459\n",
            "Epoch [28/35], Step [400/1263], Loss: 0.2399\n",
            "Epoch [28/35], Step [500/1263], Loss: 0.2384\n",
            "Epoch [28/35], Step [600/1263], Loss: 0.2707\n",
            "Epoch [28/35], Step [700/1263], Loss: 0.2527\n",
            "Epoch [28/35], Step [800/1263], Loss: 0.2537\n",
            "Epoch [28/35], Step [900/1263], Loss: 0.2440\n",
            "Epoch [28/35], Step [1000/1263], Loss: 0.2704\n",
            "Epoch [28/35], Step [1100/1263], Loss: 0.2627\n",
            "Epoch [28/35], Step [1200/1263], Loss: 0.2908\n",
            "Epoch [29/35], Step [100/1263], Loss: 0.2267\n",
            "Epoch [29/35], Step [200/1263], Loss: 0.2351\n",
            "Epoch [29/35], Step [300/1263], Loss: 0.2070\n",
            "Epoch [29/35], Step [400/1263], Loss: 0.2120\n",
            "Epoch [29/35], Step [500/1263], Loss: 0.2394\n",
            "Epoch [29/35], Step [600/1263], Loss: 0.2397\n",
            "Epoch [29/35], Step [700/1263], Loss: 0.2363\n",
            "Epoch [29/35], Step [800/1263], Loss: 0.2436\n",
            "Epoch [29/35], Step [900/1263], Loss: 0.2596\n",
            "Epoch [29/35], Step [1000/1263], Loss: 0.2414\n",
            "Epoch [29/35], Step [1100/1263], Loss: 0.2319\n",
            "Epoch [29/35], Step [1200/1263], Loss: 0.2536\n",
            "Epoch [30/35], Step [100/1263], Loss: 0.2180\n",
            "Epoch [30/35], Step [200/1263], Loss: 0.2242\n",
            "Epoch [30/35], Step [300/1263], Loss: 0.2239\n",
            "Epoch [30/35], Step [400/1263], Loss: 0.2277\n",
            "Epoch [30/35], Step [500/1263], Loss: 0.2197\n",
            "Epoch [30/35], Step [600/1263], Loss: 0.2115\n",
            "Epoch [30/35], Step [700/1263], Loss: 0.2324\n",
            "Epoch [30/35], Step [800/1263], Loss: 0.2334\n",
            "Epoch [30/35], Step [900/1263], Loss: 0.2227\n",
            "Epoch [30/35], Step [1000/1263], Loss: 0.2178\n",
            "Epoch [30/35], Step [1100/1263], Loss: 0.2421\n",
            "Epoch [30/35], Step [1200/1263], Loss: 0.2542\n",
            "Checkpoint saved at epoch 30\n",
            "Epoch [31/35], Step [100/1263], Loss: 0.1916\n",
            "Epoch [31/35], Step [200/1263], Loss: 0.2047\n",
            "Epoch [31/35], Step [300/1263], Loss: 0.2225\n",
            "Epoch [31/35], Step [400/1263], Loss: 0.2334\n",
            "Epoch [31/35], Step [500/1263], Loss: 0.2281\n",
            "Epoch [31/35], Step [600/1263], Loss: 0.2263\n",
            "Epoch [31/35], Step [700/1263], Loss: 0.2299\n",
            "Epoch [31/35], Step [800/1263], Loss: 0.2274\n",
            "Epoch [31/35], Step [900/1263], Loss: 0.2282\n",
            "Epoch [31/35], Step [1000/1263], Loss: 0.2411\n",
            "Epoch [31/35], Step [1100/1263], Loss: 0.2367\n",
            "Epoch [31/35], Step [1200/1263], Loss: 0.2431\n",
            "Epoch [32/35], Step [100/1263], Loss: 0.2023\n",
            "Epoch [32/35], Step [200/1263], Loss: 0.2072\n",
            "Epoch [32/35], Step [300/1263], Loss: 0.1805\n",
            "Epoch [32/35], Step [400/1263], Loss: 0.2007\n",
            "Epoch [32/35], Step [500/1263], Loss: 0.2012\n",
            "Epoch [32/35], Step [600/1263], Loss: 0.2055\n",
            "Epoch [32/35], Step [700/1263], Loss: 0.2184\n",
            "Epoch [32/35], Step [800/1263], Loss: 0.2272\n",
            "Epoch [32/35], Step [900/1263], Loss: 0.2207\n",
            "Epoch [32/35], Step [1000/1263], Loss: 0.2093\n",
            "Epoch [32/35], Step [1100/1263], Loss: 0.2207\n",
            "Epoch [32/35], Step [1200/1263], Loss: 0.2047\n",
            "Epoch [33/35], Step [100/1263], Loss: 0.1838\n",
            "Epoch [33/35], Step [200/1263], Loss: 0.1759\n",
            "Epoch [33/35], Step [300/1263], Loss: 0.1787\n",
            "Epoch [33/35], Step [400/1263], Loss: 0.1946\n",
            "Epoch [33/35], Step [500/1263], Loss: 0.1938\n",
            "Epoch [33/35], Step [600/1263], Loss: 0.2034\n",
            "Epoch [33/35], Step [700/1263], Loss: 0.2194\n",
            "Epoch [33/35], Step [800/1263], Loss: 0.2106\n",
            "Epoch [33/35], Step [900/1263], Loss: 0.2109\n",
            "Epoch [33/35], Step [1000/1263], Loss: 0.1979\n",
            "Epoch [33/35], Step [1100/1263], Loss: 0.2138\n",
            "Epoch [33/35], Step [1200/1263], Loss: 0.2167\n",
            "Epoch [34/35], Step [100/1263], Loss: 0.1768\n",
            "Epoch [34/35], Step [200/1263], Loss: 0.1891\n",
            "Epoch [34/35], Step [300/1263], Loss: 0.1701\n",
            "Epoch [34/35], Step [400/1263], Loss: 0.1733\n",
            "Epoch [34/35], Step [500/1263], Loss: 0.2012\n",
            "Epoch [34/35], Step [600/1263], Loss: 0.1898\n",
            "Epoch [34/35], Step [700/1263], Loss: 0.1744\n",
            "Epoch [34/35], Step [800/1263], Loss: 0.2006\n",
            "Epoch [34/35], Step [900/1263], Loss: 0.2146\n",
            "Epoch [34/35], Step [1000/1263], Loss: 0.2221\n",
            "Epoch [34/35], Step [1100/1263], Loss: 0.1979\n",
            "Epoch [34/35], Step [1200/1263], Loss: 0.2075\n",
            "Epoch [35/35], Step [100/1263], Loss: 0.1720\n",
            "Epoch [35/35], Step [200/1263], Loss: 0.1795\n",
            "Epoch [35/35], Step [300/1263], Loss: 0.1741\n",
            "Epoch [35/35], Step [400/1263], Loss: 0.1786\n",
            "Epoch [35/35], Step [500/1263], Loss: 0.1868\n",
            "Epoch [35/35], Step [600/1263], Loss: 0.1992\n",
            "Epoch [35/35], Step [700/1263], Loss: 0.1733\n",
            "Epoch [35/35], Step [800/1263], Loss: 0.1762\n",
            "Epoch [35/35], Step [900/1263], Loss: 0.2000\n",
            "Epoch [35/35], Step [1000/1263], Loss: 0.2160\n",
            "Epoch [35/35], Step [1100/1263], Loss: 0.1886\n",
            "Epoch [35/35], Step [1200/1263], Loss: 0.2028\n"
          ]
        }
      ],
      "source": [
        "# Initialize TensorBoard writer\n",
        "writer = SummaryWriter(log_dir='facial-expression-detection/5_Group17_DLProject')\n",
        "\n",
        "checkpoint_path = 'model-checkpoints/5_Group17_DLProject'\n",
        "os.makedirs(checkpoint_path, exist_ok=True)\n",
        "\n",
        "num_epochs = 35\n",
        "for epoch in range(num_epochs):\n",
        "    model.train()\n",
        "    running_loss = 0.0\n",
        "    for i, (inputs, labels) in enumerate(train_loader):\n",
        "        inputs, labels = inputs.to(device), labels.to(device)\n",
        "\n",
        "        # Zero the parameter gradients\n",
        "        optimizer.zero_grad()\n",
        "\n",
        "        # Forward pass\n",
        "        outputs = model(inputs)\n",
        "        loss = criterion(outputs, labels)\n",
        "\n",
        "        # Backward pass\n",
        "        loss.backward()\n",
        "        optimizer.step()\n",
        "\n",
        "        running_loss += loss.item()\n",
        "        if (i + 1) % 100 == 0:  # Print every 100 batches\n",
        "            avg_loss = running_loss / 100\n",
        "            print(f\"Epoch [{epoch + 1}/{num_epochs}], Step [{i + 1}/{len(train_loader)}], Loss: {avg_loss:.4f}\")\n",
        "            running_loss = 0.0\n",
        "\n",
        "            # Log loss to TensorBoard\n",
        "            writer.add_scalar('Loss/train', avg_loss, epoch)\n",
        "\n",
        "    # Save checkpoint every 10 epochs\n",
        "    if (epoch + 1) % 10 == 0:\n",
        "        checkpoint = {\n",
        "            'epoch': epoch + 1,\n",
        "            'model_state_dict': model.state_dict(),\n",
        "            'optimizer_state_dict': optimizer.state_dict(),\n",
        "            'loss': running_loss,\n",
        "        }\n",
        "        torch.save(checkpoint, f\"{checkpoint_path}/checkpoint_epoch_{epoch + 1}.pth\")\n",
        "        print(f\"Checkpoint saved at epoch {epoch + 1}\")\n",
        "\n",
        "# Close the writer after training\n",
        "writer.close()"
      ]
    },
    {
      "cell_type": "markdown",
      "metadata": {
        "id": "hkOvilMAP25L"
      },
      "source": [
        "## 6. Evaluate the Model"
      ]
    },
    {
      "cell_type": "markdown",
      "metadata": {
        "id": "o8sSwotMP25L"
      },
      "source": [
        "In this cell, we evaluate the trained model using the validation dataset:\n",
        "- The model is set to evaluation mode, and gradient computation is disabled.\n",
        "- For each batch, we perform a forward pass and predict the class labels.\n",
        "- Ground truth labels and predictions are stored and used to generate a classification report using `sklearn`. This report provides precision, recall, and F1-scores for each emotion class."
      ]
    },
    {
      "cell_type": "code",
      "execution_count": 11,
      "metadata": {
        "ExecuteTime": {
          "end_time": "2024-12-05T19:33:52.598661Z",
          "start_time": "2024-12-05T19:33:10.840394Z"
        },
        "colab": {
          "base_uri": "https://localhost:8080/"
        },
        "id": "dboWdi-7O1IS",
        "outputId": "26d1b79b-3b58-4fc3-a056-e2941805e1d2"
      },
      "outputs": [
        {
          "name": "stdout",
          "output_type": "stream",
          "text": [
            "              precision    recall  f1-score   support\n",
            "\n",
            "       Angry       0.57      0.53      0.55       799\n",
            "     Disgust       0.73      0.52      0.60        87\n",
            "        Fear       0.47      0.47      0.47       820\n",
            "       Happy       0.83      0.82      0.83      1443\n",
            "         Sad       0.47      0.55      0.51       966\n",
            "    Surprise       0.79      0.72      0.75       634\n",
            "     Neutral       0.55      0.55      0.55       993\n",
            "\n",
            "    accuracy                           0.62      5742\n",
            "   macro avg       0.63      0.59      0.61      5742\n",
            "weighted avg       0.63      0.62      0.62      5742\n",
            "\n"
          ]
        }
      ],
      "source": [
        "# Switch model to evaluation mode\n",
        "model.eval()\n",
        "\n",
        "# Initialize lists to store ground truth and predictions\n",
        "y_true, y_pred = [], []\n",
        "\n",
        "# Disable gradient computation\n",
        "with torch.no_grad():\n",
        "    for inputs, labels in val_loader:\n",
        "        # Move inputs and labels to the same device as the model\n",
        "        inputs, labels = inputs.to(device), labels.to(device)\n",
        "\n",
        "        # Forward pass\n",
        "        outputs = model(inputs)\n",
        "\n",
        "        # Get the predicted class\n",
        "        _, predicted = torch.max(outputs, 1)\n",
        "\n",
        "        # Append ground truth and predictions to respective lists\n",
        "        y_true.extend(labels.cpu().numpy())  # Convert tensors to numpy\n",
        "        y_pred.extend(predicted.cpu().numpy())\n",
        "\n",
        "# Generate the classification report\n",
        "emotion_labels = {0:'Angry', 1:'Disgust', 2:'Fear', 3:'Happy', 4: 'Sad', 5: 'Surprise', 6: 'Neutral'}\n",
        "print(classification_report(y_true, y_pred, target_names=list(emotion_labels.values())))\n"
      ]
    },
    {
      "cell_type": "markdown",
      "metadata": {
        "id": "GzVrR0whP25L"
      },
      "source": [
        "This notebook demonstrates that using five convolutional layers combined with average pooling in all but the first layer leads to a slight improvement in performance, achieving an accuracy of 0.62. Compared to previous configurations, this setup outperforms both the five- and seven-layer models with max pooling. It indicates that five layers with the use of average pooling appear to enhance generalization without unnecessary complexity."
      ]
    }
  ],
  "metadata": {
    "accelerator": "GPU",
    "colab": {
      "gpuType": "T4",
      "provenance": [],
      "toc_visible": true
    },
    "kernelspec": {
      "display_name": "Python 3",
      "name": "python3"
    },
    "language_info": {
      "codemirror_mode": {
        "name": "ipython",
        "version": 3
      },
      "file_extension": ".py",
      "mimetype": "text/x-python",
      "name": "python",
      "nbconvert_exporter": "python",
      "pygments_lexer": "ipython3",
      "version": "3.12.8"
    }
  },
  "nbformat": 4,
  "nbformat_minor": 0
}
